{
 "cells": [
  {
   "cell_type": "markdown",
   "metadata": {
    "id": "gnu-bzMfD8wz"
   },
   "source": [
    "# Receptive Field of All Units - Preliminary Data"
   ]
  },
  {
   "cell_type": "markdown",
   "metadata": {
    "id": "zHaQwflqD8w3"
   },
   "source": [
    "### Name: Renzhi Li\n",
    "\n",
    "\n",
    "### Date: 3/20/2022\n",
    "\n",
    "\n",
    "### PID: 730476567\n",
    "\n",
    "\n",
    "### Jupyter Notebook Number: 9"
   ]
  },
  {
   "cell_type": "markdown",
   "metadata": {
    "id": "oqc8EFpFD8w4"
   },
   "source": [
    "### Purpose:\n",
    "1. Use our filtered data to explore differences in receptive field sizes\n",
    "2. Specifically we need to fix errors in our code that we are getting to match our filtered data to the receptive field data.\n",
    "3. Create figures hihglighting experimental results\n",
    "\n",
    "### Protocols:\n",
    "1. Import all Allen Data for Neuropixels\n",
    "2. Run code to get our filtered data sessions for male and female mice from LGN and AM brain regions\n",
    "3. Troubleshoot errors in code\n",
    "4. Align unit id of filtered data sessions to corresponding visual cortical regions AM or LGN \n",
    "5. Plot graph\n",
    "\n",
    "### Expected Results:\n",
    "1. plot receptive field of units in targets areas for all four groups"
   ]
  },
  {
   "cell_type": "markdown",
   "metadata": {
    "id": "VSuFrG9gD8w5"
   },
   "source": [
    "### Installing AllenSDK in local environment"
   ]
  },
  {
   "cell_type": "code",
   "execution_count": 79,
   "metadata": {
    "colab": {
     "base_uri": "https://localhost:8080/"
    },
    "id": "cfp-DeUgD8w6",
    "outputId": "55fce7c7-3651-4537-81ea-b23f28257ffd"
   },
   "outputs": [
    {
     "name": "stdout",
     "output_type": "stream",
     "text": [
      "Defaulting to user installation because normal site-packages is not writeable\n",
      "Requirement already satisfied: pip in /nas/longleaf/home/renzhi/.local/lib/python3.7/site-packages (22.0.4)\n",
      "Note: you may need to restart the kernel to use updated packages.\n"
     ]
    }
   ],
   "source": [
    "pip install --upgrade pip"
   ]
  },
  {
   "cell_type": "code",
   "execution_count": 80,
   "metadata": {
    "colab": {
     "base_uri": "https://localhost:8080/"
    },
    "id": "xuUiFlcwD8w8",
    "outputId": "1cda9ed7-fb93-4edf-8c2d-705e944fa2b3"
   },
   "outputs": [
    {
     "name": "stdout",
     "output_type": "stream",
     "text": [
      "Defaulting to user installation because normal site-packages is not writeable\n",
      "Requirement already satisfied: allensdk in /nas/longleaf/home/renzhi/.local/lib/python3.7/site-packages (2.13.2)\n",
      "Requirement already satisfied: future<1.0.0,>=0.14.3 in /nas/longleaf/home/renzhi/.local/lib/python3.7/site-packages (from allensdk) (0.18.2)\n",
      "Requirement already satisfied: h5py in /nas/longleaf/home/renzhi/.local/lib/python3.7/site-packages (from allensdk) (3.6.0)\n",
      "Requirement already satisfied: tables<3.7.0,>=3.6.0 in /nas/longleaf/home/renzhi/.local/lib/python3.7/site-packages (from allensdk) (3.6.1)\n",
      "Requirement already satisfied: cachetools<5.0.0,>=4.2.1 in /nas/longleaf/home/renzhi/.local/lib/python3.7/site-packages (from allensdk) (4.2.4)\n",
      "Requirement already satisfied: numpy in /nas/longleaf/apps/anaconda/2019.10.ood/lib/python3.7/site-packages (from allensdk) (1.21.2)\n",
      "Requirement already satisfied: boto3==1.17.21 in /nas/longleaf/home/renzhi/.local/lib/python3.7/site-packages (from allensdk) (1.17.21)\n",
      "Requirement already satisfied: aiohttp==3.7.4 in /nas/longleaf/home/renzhi/.local/lib/python3.7/site-packages (from allensdk) (3.7.4)\n",
      "Requirement already satisfied: ndx-events<=0.2.0 in /nas/longleaf/home/renzhi/.local/lib/python3.7/site-packages (from allensdk) (0.2.0)\n",
      "Requirement already satisfied: requests-toolbelt<1.0.0 in /nas/longleaf/home/renzhi/.local/lib/python3.7/site-packages (from allensdk) (0.9.1)\n",
      "Requirement already satisfied: pandas>=1.1.5 in /nas/longleaf/home/renzhi/.local/lib/python3.7/site-packages (from allensdk) (1.3.5)\n",
      "Requirement already satisfied: seaborn<1.0.0 in /nas/longleaf/apps/anaconda/2019.10.ood/lib/python3.7/site-packages (from allensdk) (0.9.0)\n",
      "Requirement already satisfied: simplejson<4.0.0,>=3.10.0 in /nas/longleaf/home/renzhi/.local/lib/python3.7/site-packages (from allensdk) (3.17.6)\n",
      "Requirement already satisfied: glymur==0.8.19 in /nas/longleaf/home/renzhi/.local/lib/python3.7/site-packages (from allensdk) (0.8.19)\n",
      "Requirement already satisfied: pynwb in /nas/longleaf/home/renzhi/.local/lib/python3.7/site-packages (from allensdk) (2.0.0)\n",
      "Requirement already satisfied: nest-asyncio in /nas/longleaf/apps/anaconda/2019.10.ood/lib/python3.7/site-packages (from allensdk) (1.4.2)\n",
      "Requirement already satisfied: tqdm>=4.27 in /nas/longleaf/home/renzhi/.local/lib/python3.7/site-packages (from allensdk) (4.62.3)\n",
      "Requirement already satisfied: semver in /nas/longleaf/home/renzhi/.local/lib/python3.7/site-packages (from allensdk) (2.13.0)\n",
      "Requirement already satisfied: scipy<2.0.0,>=1.4.0 in /nas/longleaf/apps/anaconda/2019.10.ood/lib/python3.7/site-packages (from allensdk) (1.7.1)\n",
      "Requirement already satisfied: jinja2<2.12.0,>=2.7.3 in /nas/longleaf/apps/anaconda/2019.10.ood/lib/python3.7/site-packages (from allensdk) (2.11.2)\n",
      "Requirement already satisfied: simpleitk<3.0.0,>=2.0.2 in /nas/longleaf/home/renzhi/.local/lib/python3.7/site-packages (from allensdk) (2.1.1)\n",
      "Requirement already satisfied: matplotlib<3.4.3,>=1.4.3 in /nas/longleaf/apps/anaconda/2019.10.ood/lib/python3.7/site-packages (from allensdk) (3.1.1)\n",
      "Requirement already satisfied: requests<3.0.0 in /nas/longleaf/home/renzhi/.local/lib/python3.7/site-packages (from allensdk) (2.27.1)\n",
      "Requirement already satisfied: six<2.0.0,>=1.9.0 in /nas/longleaf/apps/anaconda/2019.10.ood/lib/python3.7/site-packages (from allensdk) (1.15.0)\n",
      "Requirement already satisfied: argschema<4.0.0,>=3.0.1 in /nas/longleaf/home/renzhi/.local/lib/python3.7/site-packages (from allensdk) (3.0.1)\n",
      "Requirement already satisfied: xarray<0.16.0 in /nas/longleaf/home/renzhi/.local/lib/python3.7/site-packages (from allensdk) (0.15.1)\n",
      "Requirement already satisfied: hdmf>=2.5.8 in /nas/longleaf/home/renzhi/.local/lib/python3.7/site-packages (from allensdk) (3.1.1)\n",
      "Requirement already satisfied: scikit-build<1.0.0 in /nas/longleaf/home/renzhi/.local/lib/python3.7/site-packages (from allensdk) (0.12.0)\n",
      "Requirement already satisfied: statsmodels<=0.13.0 in /nas/longleaf/home/renzhi/.local/lib/python3.7/site-packages (from allensdk) (0.13.0)\n",
      "Requirement already satisfied: scikit-image<0.17.0,>=0.14.0 in /nas/longleaf/home/renzhi/.local/lib/python3.7/site-packages (from allensdk) (0.16.2)\n",
      "Requirement already satisfied: psycopg2-binary<3.0.0,>=2.7 in /nas/longleaf/home/renzhi/.local/lib/python3.7/site-packages (from allensdk) (2.9.3)\n",
      "Requirement already satisfied: pynrrd<1.0.0,>=0.2.1 in /nas/longleaf/home/renzhi/.local/lib/python3.7/site-packages (from allensdk) (0.4.2)\n",
      "Requirement already satisfied: async-timeout<4.0,>=3.0 in /nas/longleaf/home/renzhi/.local/lib/python3.7/site-packages (from aiohttp==3.7.4->allensdk) (3.0.1)\n",
      "Requirement already satisfied: attrs>=17.3.0 in /nas/longleaf/apps/anaconda/2019.10.ood/lib/python3.7/site-packages (from aiohttp==3.7.4->allensdk) (19.3.0)\n",
      "Requirement already satisfied: typing-extensions>=3.6.5 in /nas/longleaf/apps/anaconda/2019.10.ood/lib/python3.7/site-packages (from aiohttp==3.7.4->allensdk) (3.7.4.3)\n",
      "Requirement already satisfied: yarl<2.0,>=1.0 in /nas/longleaf/home/renzhi/.local/lib/python3.7/site-packages (from aiohttp==3.7.4->allensdk) (1.7.2)\n",
      "Requirement already satisfied: multidict<7.0,>=4.5 in /nas/longleaf/home/renzhi/.local/lib/python3.7/site-packages (from aiohttp==3.7.4->allensdk) (6.0.2)\n",
      "Requirement already satisfied: chardet<4.0,>=2.0 in /nas/longleaf/home/renzhi/.local/lib/python3.7/site-packages (from aiohttp==3.7.4->allensdk) (3.0.4)\n",
      "Requirement already satisfied: s3transfer<0.4.0,>=0.3.0 in /nas/longleaf/home/renzhi/.local/lib/python3.7/site-packages (from boto3==1.17.21->allensdk) (0.3.7)\n",
      "Requirement already satisfied: botocore<1.21.0,>=1.20.21 in /nas/longleaf/home/renzhi/.local/lib/python3.7/site-packages (from boto3==1.17.21->allensdk) (1.20.112)\n",
      "Requirement already satisfied: jmespath<1.0.0,>=0.7.1 in /nas/longleaf/home/renzhi/.local/lib/python3.7/site-packages (from boto3==1.17.21->allensdk) (0.10.0)\n",
      "Requirement already satisfied: setuptools in /nas/longleaf/apps/anaconda/2019.10.ood/lib/python3.7/site-packages (from glymur==0.8.19->allensdk) (49.6.0.post20200814)\n",
      "Requirement already satisfied: marshmallow<4.0,>=3.0.0 in /nas/longleaf/home/renzhi/.local/lib/python3.7/site-packages (from argschema<4.0.0,>=3.0.1->allensdk) (3.14.1)\n",
      "Requirement already satisfied: pyyaml in /nas/longleaf/home/renzhi/.local/lib/python3.7/site-packages (from argschema<4.0.0,>=3.0.1->allensdk) (6.0)\n",
      "Requirement already satisfied: jsonschema<4,>=2.6.0 in /nas/longleaf/apps/anaconda/2019.10.ood/lib/python3.7/site-packages (from hdmf>=2.5.8->allensdk) (3.0.2)\n",
      "Collecting ruamel.yaml<1,>=0.16\n",
      "  Using cached ruamel.yaml-0.17.21-py3-none-any.whl (109 kB)\n",
      "Requirement already satisfied: cached-property in /nas/longleaf/home/renzhi/.local/lib/python3.7/site-packages (from h5py->allensdk) (1.5.2)\n",
      "Requirement already satisfied: MarkupSafe>=0.23 in /nas/longleaf/apps/anaconda/2019.10.ood/lib/python3.7/site-packages (from jinja2<2.12.0,>=2.7.3->allensdk) (1.1.1)\n",
      "Requirement already satisfied: cycler>=0.10 in /nas/longleaf/apps/anaconda/2019.10.ood/lib/python3.7/site-packages (from matplotlib<3.4.3,>=1.4.3->allensdk) (0.10.0)\n",
      "Requirement already satisfied: kiwisolver>=1.0.1 in /nas/longleaf/apps/anaconda/2019.10.ood/lib/python3.7/site-packages (from matplotlib<3.4.3,>=1.4.3->allensdk) (1.1.0)\n",
      "Requirement already satisfied: pyparsing!=2.0.4,!=2.1.2,!=2.1.6,>=2.0.1 in /nas/longleaf/apps/anaconda/2019.10.ood/lib/python3.7/site-packages (from matplotlib<3.4.3,>=1.4.3->allensdk) (2.4.7)\n",
      "Requirement already satisfied: python-dateutil>=2.1 in /nas/longleaf/apps/anaconda/2019.10.ood/lib/python3.7/site-packages (from matplotlib<3.4.3,>=1.4.3->allensdk) (2.8.1)\n",
      "Requirement already satisfied: pytz>=2017.3 in /nas/longleaf/apps/anaconda/2019.10.ood/lib/python3.7/site-packages (from pandas>=1.1.5->allensdk) (2020.1)\n",
      "Requirement already satisfied: urllib3<1.27,>=1.21.1 in /nas/longleaf/home/renzhi/.local/lib/python3.7/site-packages (from requests<3.0.0->allensdk) (1.26.8)\n",
      "Requirement already satisfied: idna<4,>=2.5 in /nas/longleaf/home/renzhi/.local/lib/python3.7/site-packages (from requests<3.0.0->allensdk) (3.3)\n",
      "Requirement already satisfied: charset-normalizer~=2.0.0 in /nas/longleaf/home/renzhi/.local/lib/python3.7/site-packages (from requests<3.0.0->allensdk) (2.0.11)\n",
      "Requirement already satisfied: certifi>=2017.4.17 in /nas/longleaf/apps/anaconda/2019.10.ood/lib/python3.7/site-packages (from requests<3.0.0->allensdk) (2019.11.28)\n",
      "Requirement already satisfied: wheel>=0.29.0 in /nas/longleaf/apps/anaconda/2019.10.ood/lib/python3.7/site-packages (from scikit-build<1.0.0->allensdk) (0.34.2)\n",
      "Requirement already satisfied: packaging in /nas/longleaf/apps/anaconda/2019.10.ood/lib/python3.7/site-packages (from scikit-build<1.0.0->allensdk) (20.4)\n",
      "Requirement already satisfied: distro in /nas/longleaf/home/renzhi/.local/lib/python3.7/site-packages (from scikit-build<1.0.0->allensdk) (1.6.0)\n",
      "Requirement already satisfied: imageio>=2.3.0 in /nas/longleaf/home/renzhi/.local/lib/python3.7/site-packages (from scikit-image<0.17.0,>=0.14.0->allensdk) (2.14.1)\n",
      "Requirement already satisfied: networkx>=2.0 in /nas/longleaf/home/renzhi/.local/lib/python3.7/site-packages (from scikit-image<0.17.0,>=0.14.0->allensdk) (2.6.3)\n",
      "Requirement already satisfied: pillow>=4.3.0 in /nas/longleaf/home/renzhi/.local/lib/python3.7/site-packages (from scikit-image<0.17.0,>=0.14.0->allensdk) (9.0.0)\n",
      "Requirement already satisfied: PyWavelets>=0.4.0 in /nas/longleaf/home/renzhi/.local/lib/python3.7/site-packages (from scikit-image<0.17.0,>=0.14.0->allensdk) (1.2.0)\n",
      "Requirement already satisfied: patsy>=0.5.2 in /nas/longleaf/home/renzhi/.local/lib/python3.7/site-packages (from statsmodels<=0.13.0->allensdk) (0.5.2)\n",
      "Requirement already satisfied: numexpr>=2.6.2 in /nas/longleaf/home/renzhi/.local/lib/python3.7/site-packages (from tables<3.7.0,>=3.6.0->allensdk) (2.8.1)\n",
      "Requirement already satisfied: pyrsistent>=0.14.0 in /nas/longleaf/apps/anaconda/2019.10.ood/lib/python3.7/site-packages (from jsonschema<4,>=2.6.0->hdmf>=2.5.8->allensdk) (0.16.0)\n",
      "Requirement already satisfied: ruamel.yaml.clib>=0.2.6 in /nas/longleaf/home/renzhi/.local/lib/python3.7/site-packages (from ruamel.yaml<1,>=0.16->hdmf>=2.5.8->allensdk) (0.2.6)\n",
      "Installing collected packages: ruamel.yaml\n",
      "\u001b[31mERROR: pip's dependency resolver does not currently take into account all the packages that are installed. This behaviour is the source of the following dependency conflicts.\n",
      "deeplabcut 2.1.6.2 requires h5py~=2.7, but you have h5py 3.6.0 which is incompatible.\n",
      "deeplabcut 2.1.6.2 requires matplotlib==3.0.3, but you have matplotlib 3.1.1 which is incompatible.\n",
      "deeplabcut 2.1.6.2 requires numpy==1.16.4, but you have numpy 1.21.2 which is incompatible.\u001b[0m\u001b[31m\n",
      "\u001b[0mSuccessfully installed ruamel.yaml-0.17.21\n",
      "Note: you may need to restart the kernel to use updated packages.\n"
     ]
    }
   ],
   "source": [
    "pip install allensdk"
   ]
  },
  {
   "cell_type": "markdown",
   "metadata": {
    "id": "aUILiVdDD8w8"
   },
   "source": [
    "### Import Packages"
   ]
  },
  {
   "cell_type": "code",
   "execution_count": 81,
   "metadata": {
    "id": "452uYGvUD8w9"
   },
   "outputs": [],
   "source": [
    "import os\n",
    "import shutil\n",
    "import allensdk\n",
    "import pprint\n",
    "from pathlib import Path\n",
    "\n",
    "import numpy as np\n",
    "import pandas as pd\n",
    "import scipy.stats as st\n",
    "from allensdk.brain_observatory.ecephys.stimulus_analysis.drifting_gratings import DriftingGratings\n",
    "import matplotlib\n",
    "import matplotlib.pyplot as plt\n",
    "%matplotlib inline\n",
    "import seaborn as sns\n",
    "sns.set_context('notebook', font_scale=1.5, rc={'lines.markeredgewidth': 2})\n",
    "\n",
    "# Graphing for indivdual units\n",
    "from allensdk.brain_observatory.ecephys.ecephys_session import EcephysSession\n",
    "from allensdk.brain_observatory.ecephys.ecephys_project_cache import EcephysProjectCache\n",
    "from allensdk.brain_observatory.ecephys.stimulus_analysis.receptive_field_mapping import ReceptiveFieldMapping\n",
    "\n",
    "#Graphing for RF Distribution and RF outlines\n",
    "from scipy.ndimage.filters import gaussian_filter1d\n",
    "from sklearn.utils import resample \n",
    "\n",
    "import warnings\n",
    "warnings.filterwarnings(\"ignore\")"
   ]
  },
  {
   "cell_type": "markdown",
   "metadata": {
    "id": "8DTEhPnKCBjQ"
   },
   "source": [
    "### Import Neuropixels Data cache object and create directory on LongLeaf storage"
   ]
  },
  {
   "cell_type": "code",
   "execution_count": 82,
   "metadata": {
    "id": "LlQu69p8CBjQ"
   },
   "outputs": [],
   "source": [
    "#data directory for extracellular ephysdata: /overflow/NSCI274/projects/ecephysdata/\n",
    "data_directory = \"/overflow/NSCI274/projects/ecephysdata/\"\n",
    "\n",
    "#import the data folder to your in Jupternotebook and copy the complete directory here\n",
    "code_directory = \"/nas/longleaf/home/renzhi/\"\n",
    "\n",
    "manifest_path = os.path.join(data_directory,\"manifest.json\")\n",
    "\n",
    "cache = EcephysProjectCache.from_warehouse(manifest=manifest_path)"
   ]
  },
  {
   "cell_type": "markdown",
   "metadata": {
    "id": "l8Hfwce1CBjR"
   },
   "source": [
    "#### All neuropixel sessions "
   ]
  },
  {
   "cell_type": "code",
   "execution_count": 83,
   "metadata": {
    "colab": {
     "base_uri": "https://localhost:8080/",
     "height": 219
    },
    "id": "aVXrHZGcCBjR",
    "outputId": "fd953937-5b9b-480b-d360-b6006d30da63"
   },
   "outputs": [],
   "source": [
    "sessions = cache.get_session_table()\n",
    "\n",
    "#total_sessions = len(sessions)\n",
    "#sessions.head(n)"
   ]
  },
  {
   "cell_type": "markdown",
   "metadata": {
    "id": "v42ZNw4DCBjR"
   },
   "source": [
    "### Data Filter"
   ]
  },
  {
   "cell_type": "markdown",
   "metadata": {
    "id": "w9LRG1ExCBjR"
   },
   "source": [
    "#### Male with LGN"
   ]
  },
  {
   "cell_type": "code",
   "execution_count": 59,
   "metadata": {
    "colab": {
     "base_uri": "https://localhost:8080/",
     "height": 236
    },
    "collapsed": true,
    "id": "YnvkztupCBjR",
    "jupyter": {
     "outputs_hidden": true
    },
    "outputId": "650f79f4-b805-43eb-f78b-17f8ee830719"
   },
   "outputs": [
    {
     "name": "stdout",
     "output_type": "stream",
     "text": [
      "28\n"
     ]
    },
    {
     "data": {
      "text/html": [
       "<div>\n",
       "<style scoped>\n",
       "    .dataframe tbody tr th:only-of-type {\n",
       "        vertical-align: middle;\n",
       "    }\n",
       "\n",
       "    .dataframe tbody tr th {\n",
       "        vertical-align: top;\n",
       "    }\n",
       "\n",
       "    .dataframe thead th {\n",
       "        text-align: right;\n",
       "    }\n",
       "</style>\n",
       "<table border=\"1\" class=\"dataframe\">\n",
       "  <thead>\n",
       "    <tr style=\"text-align: right;\">\n",
       "      <th></th>\n",
       "      <th>published_at</th>\n",
       "      <th>specimen_id</th>\n",
       "      <th>session_type</th>\n",
       "      <th>age_in_days</th>\n",
       "      <th>sex</th>\n",
       "      <th>full_genotype</th>\n",
       "      <th>unit_count</th>\n",
       "      <th>channel_count</th>\n",
       "      <th>probe_count</th>\n",
       "      <th>ecephys_structure_acronyms</th>\n",
       "    </tr>\n",
       "    <tr>\n",
       "      <th>id</th>\n",
       "      <th></th>\n",
       "      <th></th>\n",
       "      <th></th>\n",
       "      <th></th>\n",
       "      <th></th>\n",
       "      <th></th>\n",
       "      <th></th>\n",
       "      <th></th>\n",
       "      <th></th>\n",
       "      <th></th>\n",
       "    </tr>\n",
       "  </thead>\n",
       "  <tbody>\n",
       "    <tr>\n",
       "      <th>715093703</th>\n",
       "      <td>2019-10-03T00:00:00Z</td>\n",
       "      <td>699733581</td>\n",
       "      <td>brain_observatory_1.1</td>\n",
       "      <td>118.0</td>\n",
       "      <td>M</td>\n",
       "      <td>Sst-IRES-Cre/wt;Ai32(RCL-ChR2(H134R)_EYFP)/wt</td>\n",
       "      <td>884</td>\n",
       "      <td>2219</td>\n",
       "      <td>6</td>\n",
       "      <td>[CA1, VISrl, nan, PO, LP, LGd, CA3, DG, VISl, ...</td>\n",
       "    </tr>\n",
       "    <tr>\n",
       "      <th>719161530</th>\n",
       "      <td>2019-10-03T00:00:00Z</td>\n",
       "      <td>703279284</td>\n",
       "      <td>brain_observatory_1.1</td>\n",
       "      <td>122.0</td>\n",
       "      <td>M</td>\n",
       "      <td>Sst-IRES-Cre/wt;Ai32(RCL-ChR2(H134R)_EYFP)/wt</td>\n",
       "      <td>755</td>\n",
       "      <td>2214</td>\n",
       "      <td>6</td>\n",
       "      <td>[TH, Eth, APN, POL, LP, DG, CA1, VISpm, nan, N...</td>\n",
       "    </tr>\n",
       "    <tr>\n",
       "      <th>721123822</th>\n",
       "      <td>2019-10-03T00:00:00Z</td>\n",
       "      <td>707296982</td>\n",
       "      <td>brain_observatory_1.1</td>\n",
       "      <td>125.0</td>\n",
       "      <td>M</td>\n",
       "      <td>Pvalb-IRES-Cre/wt;Ai32(RCL-ChR2(H134R)_EYFP)/wt</td>\n",
       "      <td>444</td>\n",
       "      <td>2229</td>\n",
       "      <td>6</td>\n",
       "      <td>[MB, SCig, PPT, NOT, DG, CA1, VISam, nan, LP, ...</td>\n",
       "    </tr>\n",
       "    <tr>\n",
       "      <th>743475441</th>\n",
       "      <td>2019-10-03T00:00:00Z</td>\n",
       "      <td>722882755</td>\n",
       "      <td>brain_observatory_1.1</td>\n",
       "      <td>121.0</td>\n",
       "      <td>M</td>\n",
       "      <td>wt/wt</td>\n",
       "      <td>553</td>\n",
       "      <td>2225</td>\n",
       "      <td>6</td>\n",
       "      <td>[LP, LGd, HPF, DG, CA3, CA1, VISrl, nan, PP, P...</td>\n",
       "    </tr>\n",
       "    <tr>\n",
       "      <th>744228101</th>\n",
       "      <td>2019-10-03T00:00:00Z</td>\n",
       "      <td>719817805</td>\n",
       "      <td>brain_observatory_1.1</td>\n",
       "      <td>122.0</td>\n",
       "      <td>M</td>\n",
       "      <td>wt/wt</td>\n",
       "      <td>659</td>\n",
       "      <td>2226</td>\n",
       "      <td>6</td>\n",
       "      <td>[Eth, TH, LP, POL, APN, DG, CA1, VIS, nan, CA3...</td>\n",
       "    </tr>\n",
       "  </tbody>\n",
       "</table>\n",
       "</div>"
      ],
      "text/plain": [
       "                   published_at  specimen_id           session_type  \\\n",
       "id                                                                    \n",
       "715093703  2019-10-03T00:00:00Z    699733581  brain_observatory_1.1   \n",
       "719161530  2019-10-03T00:00:00Z    703279284  brain_observatory_1.1   \n",
       "721123822  2019-10-03T00:00:00Z    707296982  brain_observatory_1.1   \n",
       "743475441  2019-10-03T00:00:00Z    722882755  brain_observatory_1.1   \n",
       "744228101  2019-10-03T00:00:00Z    719817805  brain_observatory_1.1   \n",
       "\n",
       "           age_in_days sex                                    full_genotype  \\\n",
       "id                                                                            \n",
       "715093703        118.0   M    Sst-IRES-Cre/wt;Ai32(RCL-ChR2(H134R)_EYFP)/wt   \n",
       "719161530        122.0   M    Sst-IRES-Cre/wt;Ai32(RCL-ChR2(H134R)_EYFP)/wt   \n",
       "721123822        125.0   M  Pvalb-IRES-Cre/wt;Ai32(RCL-ChR2(H134R)_EYFP)/wt   \n",
       "743475441        121.0   M                                            wt/wt   \n",
       "744228101        122.0   M                                            wt/wt   \n",
       "\n",
       "           unit_count  channel_count  probe_count  \\\n",
       "id                                                  \n",
       "715093703         884           2219            6   \n",
       "719161530         755           2214            6   \n",
       "721123822         444           2229            6   \n",
       "743475441         553           2225            6   \n",
       "744228101         659           2226            6   \n",
       "\n",
       "                                  ecephys_structure_acronyms  \n",
       "id                                                            \n",
       "715093703  [CA1, VISrl, nan, PO, LP, LGd, CA3, DG, VISl, ...  \n",
       "719161530  [TH, Eth, APN, POL, LP, DG, CA1, VISpm, nan, N...  \n",
       "721123822  [MB, SCig, PPT, NOT, DG, CA1, VISam, nan, LP, ...  \n",
       "743475441  [LP, LGd, HPF, DG, CA3, CA1, VISrl, nan, PP, P...  \n",
       "744228101  [Eth, TH, LP, POL, APN, DG, CA1, VIS, nan, CA3...  "
      ]
     },
     "execution_count": 59,
     "metadata": {},
     "output_type": "execute_result"
    }
   ],
   "source": [
    "filtered_sessions_male_LGN = sessions[(sessions.sex == 'M') & \\\n",
    "                             (['LGd' in acronyms for acronyms in \n",
    "                               sessions.ecephys_structure_acronyms])]\n",
    "\n",
    "total_sessions_male_LGN = len(filtered_sessions_male_LGN)\n",
    "\n",
    "print(str(total_sessions_male_LGN))\n",
    "male_LGN_ex = sessions[(sessions.specimen_id == 699733581)]\n",
    "#show the graph\n",
    "filtered_sessions_male_LGN.head()\n"
   ]
  },
  {
   "cell_type": "markdown",
   "metadata": {
    "id": "91THAJhbCBjS"
   },
   "source": [
    "#### Male with AM"
   ]
  },
  {
   "cell_type": "code",
   "execution_count": 60,
   "metadata": {
    "collapsed": true,
    "id": "6Ntf-yofCBjS",
    "jupyter": {
     "outputs_hidden": true
    }
   },
   "outputs": [
    {
     "name": "stdout",
     "output_type": "stream",
     "text": [
      "38\n"
     ]
    },
    {
     "data": {
      "text/html": [
       "<div>\n",
       "<style scoped>\n",
       "    .dataframe tbody tr th:only-of-type {\n",
       "        vertical-align: middle;\n",
       "    }\n",
       "\n",
       "    .dataframe tbody tr th {\n",
       "        vertical-align: top;\n",
       "    }\n",
       "\n",
       "    .dataframe thead th {\n",
       "        text-align: right;\n",
       "    }\n",
       "</style>\n",
       "<table border=\"1\" class=\"dataframe\">\n",
       "  <thead>\n",
       "    <tr style=\"text-align: right;\">\n",
       "      <th></th>\n",
       "      <th>published_at</th>\n",
       "      <th>specimen_id</th>\n",
       "      <th>session_type</th>\n",
       "      <th>age_in_days</th>\n",
       "      <th>sex</th>\n",
       "      <th>full_genotype</th>\n",
       "      <th>unit_count</th>\n",
       "      <th>channel_count</th>\n",
       "      <th>probe_count</th>\n",
       "      <th>ecephys_structure_acronyms</th>\n",
       "    </tr>\n",
       "    <tr>\n",
       "      <th>id</th>\n",
       "      <th></th>\n",
       "      <th></th>\n",
       "      <th></th>\n",
       "      <th></th>\n",
       "      <th></th>\n",
       "      <th></th>\n",
       "      <th></th>\n",
       "      <th></th>\n",
       "      <th></th>\n",
       "      <th></th>\n",
       "    </tr>\n",
       "  </thead>\n",
       "  <tbody>\n",
       "    <tr>\n",
       "      <th>715093703</th>\n",
       "      <td>2019-10-03T00:00:00Z</td>\n",
       "      <td>699733581</td>\n",
       "      <td>brain_observatory_1.1</td>\n",
       "      <td>118.0</td>\n",
       "      <td>M</td>\n",
       "      <td>Sst-IRES-Cre/wt;Ai32(RCL-ChR2(H134R)_EYFP)/wt</td>\n",
       "      <td>884</td>\n",
       "      <td>2219</td>\n",
       "      <td>6</td>\n",
       "      <td>[CA1, VISrl, nan, PO, LP, LGd, CA3, DG, VISl, ...</td>\n",
       "    </tr>\n",
       "    <tr>\n",
       "      <th>719161530</th>\n",
       "      <td>2019-10-03T00:00:00Z</td>\n",
       "      <td>703279284</td>\n",
       "      <td>brain_observatory_1.1</td>\n",
       "      <td>122.0</td>\n",
       "      <td>M</td>\n",
       "      <td>Sst-IRES-Cre/wt;Ai32(RCL-ChR2(H134R)_EYFP)/wt</td>\n",
       "      <td>755</td>\n",
       "      <td>2214</td>\n",
       "      <td>6</td>\n",
       "      <td>[TH, Eth, APN, POL, LP, DG, CA1, VISpm, nan, N...</td>\n",
       "    </tr>\n",
       "    <tr>\n",
       "      <th>721123822</th>\n",
       "      <td>2019-10-03T00:00:00Z</td>\n",
       "      <td>707296982</td>\n",
       "      <td>brain_observatory_1.1</td>\n",
       "      <td>125.0</td>\n",
       "      <td>M</td>\n",
       "      <td>Pvalb-IRES-Cre/wt;Ai32(RCL-ChR2(H134R)_EYFP)/wt</td>\n",
       "      <td>444</td>\n",
       "      <td>2229</td>\n",
       "      <td>6</td>\n",
       "      <td>[MB, SCig, PPT, NOT, DG, CA1, VISam, nan, LP, ...</td>\n",
       "    </tr>\n",
       "    <tr>\n",
       "      <th>739448407</th>\n",
       "      <td>2019-10-03T00:00:00Z</td>\n",
       "      <td>716813543</td>\n",
       "      <td>brain_observatory_1.1</td>\n",
       "      <td>112.0</td>\n",
       "      <td>M</td>\n",
       "      <td>wt/wt</td>\n",
       "      <td>625</td>\n",
       "      <td>2221</td>\n",
       "      <td>6</td>\n",
       "      <td>[grey, VISam, nan, VIS, VISp, VISl, VISrl]</td>\n",
       "    </tr>\n",
       "    <tr>\n",
       "      <th>743475441</th>\n",
       "      <td>2019-10-03T00:00:00Z</td>\n",
       "      <td>722882755</td>\n",
       "      <td>brain_observatory_1.1</td>\n",
       "      <td>121.0</td>\n",
       "      <td>M</td>\n",
       "      <td>wt/wt</td>\n",
       "      <td>553</td>\n",
       "      <td>2225</td>\n",
       "      <td>6</td>\n",
       "      <td>[LP, LGd, HPF, DG, CA3, CA1, VISrl, nan, PP, P...</td>\n",
       "    </tr>\n",
       "  </tbody>\n",
       "</table>\n",
       "</div>"
      ],
      "text/plain": [
       "                   published_at  specimen_id           session_type  \\\n",
       "id                                                                    \n",
       "715093703  2019-10-03T00:00:00Z    699733581  brain_observatory_1.1   \n",
       "719161530  2019-10-03T00:00:00Z    703279284  brain_observatory_1.1   \n",
       "721123822  2019-10-03T00:00:00Z    707296982  brain_observatory_1.1   \n",
       "739448407  2019-10-03T00:00:00Z    716813543  brain_observatory_1.1   \n",
       "743475441  2019-10-03T00:00:00Z    722882755  brain_observatory_1.1   \n",
       "\n",
       "           age_in_days sex                                    full_genotype  \\\n",
       "id                                                                            \n",
       "715093703        118.0   M    Sst-IRES-Cre/wt;Ai32(RCL-ChR2(H134R)_EYFP)/wt   \n",
       "719161530        122.0   M    Sst-IRES-Cre/wt;Ai32(RCL-ChR2(H134R)_EYFP)/wt   \n",
       "721123822        125.0   M  Pvalb-IRES-Cre/wt;Ai32(RCL-ChR2(H134R)_EYFP)/wt   \n",
       "739448407        112.0   M                                            wt/wt   \n",
       "743475441        121.0   M                                            wt/wt   \n",
       "\n",
       "           unit_count  channel_count  probe_count  \\\n",
       "id                                                  \n",
       "715093703         884           2219            6   \n",
       "719161530         755           2214            6   \n",
       "721123822         444           2229            6   \n",
       "739448407         625           2221            6   \n",
       "743475441         553           2225            6   \n",
       "\n",
       "                                  ecephys_structure_acronyms  \n",
       "id                                                            \n",
       "715093703  [CA1, VISrl, nan, PO, LP, LGd, CA3, DG, VISl, ...  \n",
       "719161530  [TH, Eth, APN, POL, LP, DG, CA1, VISpm, nan, N...  \n",
       "721123822  [MB, SCig, PPT, NOT, DG, CA1, VISam, nan, LP, ...  \n",
       "739448407         [grey, VISam, nan, VIS, VISp, VISl, VISrl]  \n",
       "743475441  [LP, LGd, HPF, DG, CA3, CA1, VISrl, nan, PP, P...  "
      ]
     },
     "execution_count": 60,
     "metadata": {},
     "output_type": "execute_result"
    }
   ],
   "source": [
    "filtered_sessions_male_AM = sessions[(sessions.sex == 'M') & \\\n",
    "                             (['VISam' in acronyms for acronyms in \n",
    "                               sessions.ecephys_structure_acronyms])]\n",
    "total_sessions_male_AM = len(filtered_sessions_male_AM)\n",
    "\n",
    "print(str(total_sessions_male_AM))\n",
    "male_AM_ex = sessions[(sessions.specimen_id == 699733581)]\n",
    "#show the graph\n",
    "filtered_sessions_male_AM.head()"
   ]
  },
  {
   "cell_type": "markdown",
   "metadata": {
    "id": "Wd6NME-9CBjT"
   },
   "source": [
    "#### Female with LGN"
   ]
  },
  {
   "cell_type": "code",
   "execution_count": 62,
   "metadata": {
    "collapsed": true,
    "id": "sXv7mBGlCBjT",
    "jupyter": {
     "outputs_hidden": true,
     "source_hidden": true
    }
   },
   "outputs": [
    {
     "name": "stdout",
     "output_type": "stream",
     "text": [
      "6\n"
     ]
    },
    {
     "data": {
      "text/html": [
       "<div>\n",
       "<style scoped>\n",
       "    .dataframe tbody tr th:only-of-type {\n",
       "        vertical-align: middle;\n",
       "    }\n",
       "\n",
       "    .dataframe tbody tr th {\n",
       "        vertical-align: top;\n",
       "    }\n",
       "\n",
       "    .dataframe thead th {\n",
       "        text-align: right;\n",
       "    }\n",
       "</style>\n",
       "<table border=\"1\" class=\"dataframe\">\n",
       "  <thead>\n",
       "    <tr style=\"text-align: right;\">\n",
       "      <th></th>\n",
       "      <th>published_at</th>\n",
       "      <th>specimen_id</th>\n",
       "      <th>session_type</th>\n",
       "      <th>age_in_days</th>\n",
       "      <th>sex</th>\n",
       "      <th>full_genotype</th>\n",
       "      <th>unit_count</th>\n",
       "      <th>channel_count</th>\n",
       "      <th>probe_count</th>\n",
       "      <th>ecephys_structure_acronyms</th>\n",
       "    </tr>\n",
       "    <tr>\n",
       "      <th>id</th>\n",
       "      <th></th>\n",
       "      <th></th>\n",
       "      <th></th>\n",
       "      <th></th>\n",
       "      <th></th>\n",
       "      <th></th>\n",
       "      <th></th>\n",
       "      <th></th>\n",
       "      <th></th>\n",
       "      <th></th>\n",
       "    </tr>\n",
       "  </thead>\n",
       "  <tbody>\n",
       "    <tr>\n",
       "      <th>746083955</th>\n",
       "      <td>2019-10-03T00:00:00Z</td>\n",
       "      <td>726170935</td>\n",
       "      <td>brain_observatory_1.1</td>\n",
       "      <td>98.0</td>\n",
       "      <td>F</td>\n",
       "      <td>Pvalb-IRES-Cre/wt;Ai32(RCL-ChR2(H134R)_EYFP)/wt</td>\n",
       "      <td>582</td>\n",
       "      <td>2216</td>\n",
       "      <td>6</td>\n",
       "      <td>[VPM, TH, LGd, CA3, CA2, CA1, VISal, nan, grey...</td>\n",
       "    </tr>\n",
       "    <tr>\n",
       "      <th>751348571</th>\n",
       "      <td>2019-10-03T00:00:00Z</td>\n",
       "      <td>732548380</td>\n",
       "      <td>brain_observatory_1.1</td>\n",
       "      <td>93.0</td>\n",
       "      <td>F</td>\n",
       "      <td>Vip-IRES-Cre/wt;Ai32(RCL-ChR2(H134R)_EYFP)/wt</td>\n",
       "      <td>859</td>\n",
       "      <td>2217</td>\n",
       "      <td>6</td>\n",
       "      <td>[grey, LGv, CA3, DG, CA1, VISl, nan, APN, POL,...</td>\n",
       "    </tr>\n",
       "    <tr>\n",
       "      <th>819186360</th>\n",
       "      <td>2019-10-03T00:00:00Z</td>\n",
       "      <td>800249587</td>\n",
       "      <td>functional_connectivity</td>\n",
       "      <td>128.0</td>\n",
       "      <td>F</td>\n",
       "      <td>wt/wt</td>\n",
       "      <td>531</td>\n",
       "      <td>1696</td>\n",
       "      <td>5</td>\n",
       "      <td>[SCiw, SCig, NOT, MB, SCop, HPF, SUB, VISam, n...</td>\n",
       "    </tr>\n",
       "    <tr>\n",
       "      <th>819701982</th>\n",
       "      <td>2019-10-03T00:00:00Z</td>\n",
       "      <td>795770036</td>\n",
       "      <td>functional_connectivity</td>\n",
       "      <td>135.0</td>\n",
       "      <td>F</td>\n",
       "      <td>Vip-IRES-Cre/wt;Ai32(RCL-ChR2(H134R)_EYFP)/wt</td>\n",
       "      <td>585</td>\n",
       "      <td>1852</td>\n",
       "      <td>5</td>\n",
       "      <td>[MB, SCiw, SCig, PPT, NOT, SUB, ProS, CA1, VIS...</td>\n",
       "    </tr>\n",
       "    <tr>\n",
       "      <th>821695405</th>\n",
       "      <td>2019-10-03T00:00:00Z</td>\n",
       "      <td>800250057</td>\n",
       "      <td>functional_connectivity</td>\n",
       "      <td>134.0</td>\n",
       "      <td>F</td>\n",
       "      <td>wt/wt</td>\n",
       "      <td>474</td>\n",
       "      <td>1856</td>\n",
       "      <td>5</td>\n",
       "      <td>[LGv, TH, DG, CA3, CA1, ProS, VISl, nan, grey,...</td>\n",
       "    </tr>\n",
       "    <tr>\n",
       "      <th>839068429</th>\n",
       "      <td>2019-10-03T00:00:00Z</td>\n",
       "      <td>817060751</td>\n",
       "      <td>functional_connectivity</td>\n",
       "      <td>129.0</td>\n",
       "      <td>F</td>\n",
       "      <td>Sst-IRES-Cre/wt;Ai32(RCL-ChR2(H134R)_EYFP)/wt</td>\n",
       "      <td>742</td>\n",
       "      <td>2298</td>\n",
       "      <td>6</td>\n",
       "      <td>[APN, LP, MB, DG, CA1, VISam, nan, VISpm, ProS...</td>\n",
       "    </tr>\n",
       "  </tbody>\n",
       "</table>\n",
       "</div>"
      ],
      "text/plain": [
       "                   published_at  specimen_id             session_type  \\\n",
       "id                                                                      \n",
       "746083955  2019-10-03T00:00:00Z    726170935    brain_observatory_1.1   \n",
       "751348571  2019-10-03T00:00:00Z    732548380    brain_observatory_1.1   \n",
       "819186360  2019-10-03T00:00:00Z    800249587  functional_connectivity   \n",
       "819701982  2019-10-03T00:00:00Z    795770036  functional_connectivity   \n",
       "821695405  2019-10-03T00:00:00Z    800250057  functional_connectivity   \n",
       "839068429  2019-10-03T00:00:00Z    817060751  functional_connectivity   \n",
       "\n",
       "           age_in_days sex                                    full_genotype  \\\n",
       "id                                                                            \n",
       "746083955         98.0   F  Pvalb-IRES-Cre/wt;Ai32(RCL-ChR2(H134R)_EYFP)/wt   \n",
       "751348571         93.0   F    Vip-IRES-Cre/wt;Ai32(RCL-ChR2(H134R)_EYFP)/wt   \n",
       "819186360        128.0   F                                            wt/wt   \n",
       "819701982        135.0   F    Vip-IRES-Cre/wt;Ai32(RCL-ChR2(H134R)_EYFP)/wt   \n",
       "821695405        134.0   F                                            wt/wt   \n",
       "839068429        129.0   F    Sst-IRES-Cre/wt;Ai32(RCL-ChR2(H134R)_EYFP)/wt   \n",
       "\n",
       "           unit_count  channel_count  probe_count  \\\n",
       "id                                                  \n",
       "746083955         582           2216            6   \n",
       "751348571         859           2217            6   \n",
       "819186360         531           1696            5   \n",
       "819701982         585           1852            5   \n",
       "821695405         474           1856            5   \n",
       "839068429         742           2298            6   \n",
       "\n",
       "                                  ecephys_structure_acronyms  \n",
       "id                                                            \n",
       "746083955  [VPM, TH, LGd, CA3, CA2, CA1, VISal, nan, grey...  \n",
       "751348571  [grey, LGv, CA3, DG, CA1, VISl, nan, APN, POL,...  \n",
       "819186360  [SCiw, SCig, NOT, MB, SCop, HPF, SUB, VISam, n...  \n",
       "819701982  [MB, SCiw, SCig, PPT, NOT, SUB, ProS, CA1, VIS...  \n",
       "821695405  [LGv, TH, DG, CA3, CA1, ProS, VISl, nan, grey,...  \n",
       "839068429  [APN, LP, MB, DG, CA1, VISam, nan, VISpm, ProS...  "
      ]
     },
     "execution_count": 62,
     "metadata": {},
     "output_type": "execute_result"
    }
   ],
   "source": [
    "filtered_sessions_female_LGN = sessions[(sessions.sex == 'F') & \\\n",
    "                             #(sessions.full_genotype.str.find('Sst') > -1) & \\\n",
    "                             #(sessions.session_type == 'brain_observatory_1.1') & \\\n",
    "                             (['LGd' in acronyms for acronyms in \n",
    "                               sessions.ecephys_structure_acronyms])]\n",
    "total_sessions_female_LGN = len(filtered_sessions_female_LGN)\n",
    "\n",
    "print(str(total_sessions_female_LGN))\n",
    "female_LGN_ex = sessions[(sessions.specimen_id == 726170935)]\n",
    "\n",
    "#show the graph\n",
    "filtered_sessions_female_LGN.head(n = 6)"
   ]
  },
  {
   "cell_type": "markdown",
   "metadata": {
    "id": "Zw8_M3vhCBjT"
   },
   "source": [
    "#### Female with AM"
   ]
  },
  {
   "cell_type": "code",
   "execution_count": 67,
   "metadata": {
    "collapsed": true,
    "id": "_mQATz0WCBjT",
    "jupyter": {
     "outputs_hidden": true,
     "source_hidden": true
    }
   },
   "outputs": [
    {
     "name": "stdout",
     "output_type": "stream",
     "text": [
      "12\n"
     ]
    },
    {
     "data": {
      "text/html": [
       "<div>\n",
       "<style scoped>\n",
       "    .dataframe tbody tr th:only-of-type {\n",
       "        vertical-align: middle;\n",
       "    }\n",
       "\n",
       "    .dataframe tbody tr th {\n",
       "        vertical-align: top;\n",
       "    }\n",
       "\n",
       "    .dataframe thead th {\n",
       "        text-align: right;\n",
       "    }\n",
       "</style>\n",
       "<table border=\"1\" class=\"dataframe\">\n",
       "  <thead>\n",
       "    <tr style=\"text-align: right;\">\n",
       "      <th></th>\n",
       "      <th>published_at</th>\n",
       "      <th>specimen_id</th>\n",
       "      <th>session_type</th>\n",
       "      <th>age_in_days</th>\n",
       "      <th>sex</th>\n",
       "      <th>full_genotype</th>\n",
       "      <th>unit_count</th>\n",
       "      <th>channel_count</th>\n",
       "      <th>probe_count</th>\n",
       "      <th>ecephys_structure_acronyms</th>\n",
       "    </tr>\n",
       "    <tr>\n",
       "      <th>id</th>\n",
       "      <th></th>\n",
       "      <th></th>\n",
       "      <th></th>\n",
       "      <th></th>\n",
       "      <th></th>\n",
       "      <th></th>\n",
       "      <th></th>\n",
       "      <th></th>\n",
       "      <th></th>\n",
       "      <th></th>\n",
       "    </tr>\n",
       "  </thead>\n",
       "  <tbody>\n",
       "    <tr>\n",
       "      <th>751348571</th>\n",
       "      <td>2019-10-03T00:00:00Z</td>\n",
       "      <td>732548380</td>\n",
       "      <td>brain_observatory_1.1</td>\n",
       "      <td>93.0</td>\n",
       "      <td>F</td>\n",
       "      <td>Vip-IRES-Cre/wt;Ai32(RCL-ChR2(H134R)_EYFP)/wt</td>\n",
       "      <td>859</td>\n",
       "      <td>2217</td>\n",
       "      <td>6</td>\n",
       "      <td>[grey, LGv, CA3, DG, CA1, VISl, nan, APN, POL,...</td>\n",
       "    </tr>\n",
       "    <tr>\n",
       "      <th>760693773</th>\n",
       "      <td>2019-10-03T00:00:00Z</td>\n",
       "      <td>738651054</td>\n",
       "      <td>brain_observatory_1.1</td>\n",
       "      <td>110.0</td>\n",
       "      <td>F</td>\n",
       "      <td>Sst-IRES-Cre/wt;Ai32(RCL-ChR2(H134R)_EYFP)/wt</td>\n",
       "      <td>826</td>\n",
       "      <td>2233</td>\n",
       "      <td>6</td>\n",
       "      <td>[grey, VISrl, nan, VISal, VISp, VISpm, VISam]</td>\n",
       "    </tr>\n",
       "    <tr>\n",
       "      <th>773418906</th>\n",
       "      <td>2019-10-03T00:00:00Z</td>\n",
       "      <td>757329624</td>\n",
       "      <td>brain_observatory_1.1</td>\n",
       "      <td>124.0</td>\n",
       "      <td>F</td>\n",
       "      <td>Pvalb-IRES-Cre/wt;Ai32(RCL-ChR2(H134R)_EYFP)/wt</td>\n",
       "      <td>546</td>\n",
       "      <td>2232</td>\n",
       "      <td>6</td>\n",
       "      <td>[PPT, NOT, SUB, ProS, CA1, VISam, nan, APN, DG...</td>\n",
       "    </tr>\n",
       "    <tr>\n",
       "      <th>786091066</th>\n",
       "      <td>2019-10-03T00:00:00Z</td>\n",
       "      <td>763884103</td>\n",
       "      <td>functional_connectivity</td>\n",
       "      <td>111.0</td>\n",
       "      <td>F</td>\n",
       "      <td>Sst-IRES-Cre/wt;Ai32(RCL-ChR2(H134R)_EYFP)/wt</td>\n",
       "      <td>700</td>\n",
       "      <td>2232</td>\n",
       "      <td>6</td>\n",
       "      <td>[APN, MB, DG, CA1, VISrl, nan, MGd, CA3, VISal...</td>\n",
       "    </tr>\n",
       "    <tr>\n",
       "      <th>794812542</th>\n",
       "      <td>2019-10-03T00:00:00Z</td>\n",
       "      <td>774672366</td>\n",
       "      <td>functional_connectivity</td>\n",
       "      <td>120.0</td>\n",
       "      <td>F</td>\n",
       "      <td>Sst-IRES-Cre/wt;Ai32(RCL-ChR2(H134R)_EYFP)/wt</td>\n",
       "      <td>1005</td>\n",
       "      <td>2229</td>\n",
       "      <td>6</td>\n",
       "      <td>[MB, APN, DG, CA1, VISrl, nan, PIL, MGm, MGv, ...</td>\n",
       "    </tr>\n",
       "  </tbody>\n",
       "</table>\n",
       "</div>"
      ],
      "text/plain": [
       "                   published_at  specimen_id             session_type  \\\n",
       "id                                                                      \n",
       "751348571  2019-10-03T00:00:00Z    732548380    brain_observatory_1.1   \n",
       "760693773  2019-10-03T00:00:00Z    738651054    brain_observatory_1.1   \n",
       "773418906  2019-10-03T00:00:00Z    757329624    brain_observatory_1.1   \n",
       "786091066  2019-10-03T00:00:00Z    763884103  functional_connectivity   \n",
       "794812542  2019-10-03T00:00:00Z    774672366  functional_connectivity   \n",
       "\n",
       "           age_in_days sex                                    full_genotype  \\\n",
       "id                                                                            \n",
       "751348571         93.0   F    Vip-IRES-Cre/wt;Ai32(RCL-ChR2(H134R)_EYFP)/wt   \n",
       "760693773        110.0   F    Sst-IRES-Cre/wt;Ai32(RCL-ChR2(H134R)_EYFP)/wt   \n",
       "773418906        124.0   F  Pvalb-IRES-Cre/wt;Ai32(RCL-ChR2(H134R)_EYFP)/wt   \n",
       "786091066        111.0   F    Sst-IRES-Cre/wt;Ai32(RCL-ChR2(H134R)_EYFP)/wt   \n",
       "794812542        120.0   F    Sst-IRES-Cre/wt;Ai32(RCL-ChR2(H134R)_EYFP)/wt   \n",
       "\n",
       "           unit_count  channel_count  probe_count  \\\n",
       "id                                                  \n",
       "751348571         859           2217            6   \n",
       "760693773         826           2233            6   \n",
       "773418906         546           2232            6   \n",
       "786091066         700           2232            6   \n",
       "794812542        1005           2229            6   \n",
       "\n",
       "                                  ecephys_structure_acronyms  \n",
       "id                                                            \n",
       "751348571  [grey, LGv, CA3, DG, CA1, VISl, nan, APN, POL,...  \n",
       "760693773      [grey, VISrl, nan, VISal, VISp, VISpm, VISam]  \n",
       "773418906  [PPT, NOT, SUB, ProS, CA1, VISam, nan, APN, DG...  \n",
       "786091066  [APN, MB, DG, CA1, VISrl, nan, MGd, CA3, VISal...  \n",
       "794812542  [MB, APN, DG, CA1, VISrl, nan, PIL, MGm, MGv, ...  "
      ]
     },
     "execution_count": 67,
     "metadata": {},
     "output_type": "execute_result"
    }
   ],
   "source": [
    "filtered_sessions_female_AM = sessions[(sessions.sex == 'F') & \\\n",
    "                             (['VISam' in acronyms for acronyms in \n",
    "                               sessions.ecephys_structure_acronyms])]\n",
    "total_sessions_female_AM = len(filtered_sessions_female_AM)\n",
    "\n",
    "print(str(total_sessions_female_AM))\n",
    "\n",
    "female_AM_ex = sessions[(sessions.specimen_id == 732548380)]\n",
    "\n",
    "#show the graph\n",
    "filtered_sessions_female_AM.head()"
   ]
  },
  {
   "cell_type": "markdown",
   "metadata": {
    "id": "Zb1Sj-HZCBjU",
    "jupyter": {
     "source_hidden": true
    }
   },
   "source": [
    "### Receptive Field for Individual Units"
   ]
  },
  {
   "cell_type": "markdown",
   "metadata": {
    "jupyter": {
     "source_hidden": true
    }
   },
   "source": [
    "#### filtered_sessions_female_LGN"
   ]
  },
  {
   "cell_type": "code",
   "execution_count": 68,
   "metadata": {
    "jupyter": {
     "source_hidden": true
    }
   },
   "outputs": [
    {
     "ename": "SyntaxError",
     "evalue": "invalid syntax (<ipython-input-68-ce006068a6e0>, line 4)",
     "output_type": "error",
     "traceback": [
      "\u001b[0;36m  File \u001b[0;32m\"<ipython-input-68-ce006068a6e0>\"\u001b[0;36m, line \u001b[0;32m4\u001b[0m\n\u001b[0;31m    for session_id, female_LGN_ex.iterrows():\u001b[0m\n\u001b[0m                                            ^\u001b[0m\n\u001b[0;31mSyntaxError\u001b[0m\u001b[0;31m:\u001b[0m invalid syntax\n"
     ]
    }
   ],
   "source": [
    "# lists: filtered_sessions_female_LGN, filtered_sessions_female_AM, filtered_sessions_male_LGN, filtered_sessions_male_AM\n",
    "\n",
    "#define session by position in the table\n",
    "for session_id, female_LGN_ex.iterrows():\n",
    "    session = cache.get_session_data(session_id)\n",
    "    print(session_id)\n",
    "    rf = ReceptiveFieldMapping(session)\n",
    "    rf_stim_table = session.stimulus_presentations[session.stimulus_presentations.stimulus_name == 'gabors']\n",
    "    keys = rf_stim_table.keys()\n",
    "    [key for key in keys if len(np.unique(rf_stim_table[key])) > 1]\n",
    "    len(rf_stim_table) / (3 * 9 * 9)\n",
    "    len(rf_stim_table) / len(np.unique(rf_stim_table.stimulus_condition_id))\n",
    "    rf_stim_table.keys()\n",
    "    #### Receptive Field Plotting\n",
    "    rf_mapping = ReceptiveFieldMapping(session)\n",
    "    rf_mapping.stim_table\n",
    "    #### Visual Cortical Targeted\n",
    "    am_units = session.units[session.units.ecephys_structure_acronym == 'LGd']\n",
    "    \n",
    "    def getRF():\n",
    "        try: \n",
    "            return len(rf_mapping.get_receptive_field(am_units.index.values[3]))>=0\n",
    "        except:\n",
    "            return False\n",
    "\n",
    "    if (getRF()):\n",
    "        print('is valid')\n",
    "        RF = rf_mapping.get_receptive_field(am_units.index.values[3])\n",
    "        \n",
    "        def plot_rf(unit_id, index):\n",
    "            RF = rf_mapping.get_receptive_field(unit_id)\n",
    "            _ = plt.subplot(20,20,index+1)\n",
    "            _ = plt.imshow(RF)\n",
    "            _ = plt.axis('off')\n",
    "            #show unit id\n",
    "            #_ = plt.gca().set_title(unit_id, fontsize=8)\n",
    "        \n",
    "        _ = plt.figure(figsize=(20,20))\n",
    "        _ = [plot_rf(RF, index) for index, RF in enumerate(am_units.index.values)]\n",
    "        plt.subplots_adjust(hspace = 0.4)\n",
    "        #show session id (the last unit id is overwritten as session id, I have not found a way to fix it yet)\n",
    "        #plt.gca().set_title(session_id,fontsize=9,color='red')\n",
    "    else:\n",
    "        print('index error')"
   ]
  },
  {
   "cell_type": "markdown",
   "metadata": {
    "jupyter": {
     "source_hidden": true
    }
   },
   "source": [
    "### filtered_sessions_female_AM"
   ]
  },
  {
   "cell_type": "code",
   "execution_count": 43,
   "metadata": {
    "jupyter": {
     "source_hidden": true
    }
   },
   "outputs": [],
   "source": [
    "# lists: filtered_sessions_female_LGN, filtered_sessions_female_AM, filtered_sessions_male_LGN, filtered_sessions_male_AM\n",
    "\n",
    "#define session by position in the table\n",
    "for session_id, row in female_AM_ex.iterrows():\n",
    "    session = cache.get_session_data(session_id)\n",
    "    print(session_id)\n",
    "    rf = ReceptiveFieldMapping(session)\n",
    "    rf_stim_table = session.stimulus_presentations[session.stimulus_presentations.stimulus_name == 'gabors']\n",
    "    keys = rf_stim_table.keys()\n",
    "    [key for key in keys if len(np.unique(rf_stim_table[key])) > 1]\n",
    "    len(rf_stim_table) / (3 * 9 * 9)\n",
    "    len(rf_stim_table) / len(np.unique(rf_stim_table.stimulus_condition_id))\n",
    "    rf_stim_table.keys()\n",
    "    #### Receptive Field Plotting\n",
    "    rf_mapping = ReceptiveFieldMapping(session)\n",
    "    rf_mapping.stim_table\n",
    "    #### Visual Cortical Targeted\n",
    "    am_units = session.units[session.units.ecephys_structure_acronym == 'VISam']\n",
    "    \n",
    "    def getRF():\n",
    "        try: \n",
    "            return len(rf_mapping.get_receptive_field(am_units.index.values[3]))>=0\n",
    "        except:\n",
    "            return False\n",
    "\n",
    "    if (getRF()):\n",
    "        print('is valid')\n",
    "        RF = rf_mapping.get_receptive_field(am_units.index.values[3])\n",
    "        \n",
    "        def plot_rf(unit_id, index):\n",
    "            RF = rf_mapping.get_receptive_field(unit_id)\n",
    "            _ = plt.subplot(20,20,index+1)\n",
    "            _ = plt.imshow(RF)\n",
    "            _ = plt.axis('off')\n",
    "            #show unit id\n",
    "            _ = plt.gca().set_title(unit_id, fontsize=8)\n",
    "        \n",
    "        _ = plt.figure(figsize=(20,20))\n",
    "        #_ = [plot_rf(RF, index) for index, RF in enumerate(am_units.index.values)]\n",
    "        plt.subplots_adjust(hspace = 0.5)\n",
    "        #show session id (the last unit id is overwritten as session id, I have not found a way to fix it yet)\n",
    "        #plt.gca().set_title(session_id,fontsize=9,color='red')\n",
    "    else:\n",
    "        print('index error')"
   ]
  },
  {
   "cell_type": "markdown",
   "metadata": {
    "jupyter": {
     "source_hidden": true
    }
   },
   "source": [
    "#### filtered_sessions_male_LGN"
   ]
  },
  {
   "cell_type": "code",
   "execution_count": 44,
   "metadata": {
    "jupyter": {
     "source_hidden": true
    }
   },
   "outputs": [],
   "source": [
    "# lists: filtered_sessions_female_LGN, filtered_sessions_female_AM, filtered_sessions_male_LGN, filtered_sessions_male_AM\n",
    "\n",
    "#define session by position in the table\n",
    "for session_id, row in male_LGN_ex.iterrows():\n",
    "    session = cache.get_session_data(session_id)\n",
    "    print(session_id)\n",
    "    rf = ReceptiveFieldMapping(session)\n",
    "    rf_stim_table = session.stimulus_presentations[session.stimulus_presentations.stimulus_name == 'gabors']\n",
    "    keys = rf_stim_table.keys()\n",
    "    [key for key in keys if len(np.unique(rf_stim_table[key])) > 1]\n",
    "    len(rf_stim_table) / (3 * 9 * 9)\n",
    "    len(rf_stim_table) / len(np.unique(rf_stim_table.stimulus_condition_id))\n",
    "    rf_stim_table.keys()\n",
    "    #### Receptive Field Plotting\n",
    "    rf_mapping = ReceptiveFieldMapping(session)\n",
    "    rf_mapping.stim_table\n",
    "    #### Visual Cortical Targeted\n",
    "    am_units = session.units[session.units.ecephys_structure_acronym == 'LGd']\n",
    "    \n",
    "    def getRF():\n",
    "        try: \n",
    "            return len(rf_mapping.get_receptive_field(am_units.index.values[3]))>=0\n",
    "        except:\n",
    "            return False\n",
    "\n",
    "    if (getRF()):\n",
    "        print('is valid')\n",
    "        RF = rf_mapping.get_receptive_field(am_units.index.values[3])\n",
    "        \n",
    "        def plot_rf(unit_id, index):\n",
    "            RF = rf_mapping.get_receptive_field(unit_id)\n",
    "            _ = plt.subplot(20,20,index+1)\n",
    "            _ = plt.imshow(RF)\n",
    "            _ = plt.axis('off')\n",
    "            #show unit id\n",
    "            #_ = plt.gca().set_title(unit_id, fontsize=8)\n",
    "        \n",
    "        _ = plt.figure(figsize=(20,20))\n",
    "        _ = [plot_rf(RF, index) for index, RF in enumerate(am_units.index.values)]\n",
    "        plt.subplots_adjust(hspace = 0.5)\n",
    "        #show session id (the last unit id is overwritten as session id, I have not found a way to fix it yet)\n",
    "        #plt.gca().set_title(session_id,fontsize=9,color='red')\n",
    "    else:\n",
    "        print('index error')"
   ]
  },
  {
   "cell_type": "markdown",
   "metadata": {
    "jupyter": {
     "source_hidden": true
    }
   },
   "source": [
    "#### filtered_sessions_male_AM"
   ]
  },
  {
   "cell_type": "code",
   "execution_count": 45,
   "metadata": {
    "collapsed": true,
    "jupyter": {
     "outputs_hidden": true,
     "source_hidden": true
    }
   },
   "outputs": [
    {
     "ename": "SyntaxError",
     "evalue": "invalid syntax (<ipython-input-45-88c881bcb2bc>, line 4)",
     "output_type": "error",
     "traceback": [
      "\u001b[0;36m  File \u001b[0;32m\"<ipython-input-45-88c881bcb2bc>\"\u001b[0;36m, line \u001b[0;32m4\u001b[0m\n\u001b[0;31m    for session_id, male_AM_ex.iterrows():\u001b[0m\n\u001b[0m                                         ^\u001b[0m\n\u001b[0;31mSyntaxError\u001b[0m\u001b[0;31m:\u001b[0m invalid syntax\n"
     ]
    }
   ],
   "source": [
    "# lists: filtered_sessions_female_LGN, filtered_sessions_female_AM, filtered_sessions_male_LGN, filtered_sessions_male_AM\n",
    "\n",
    "#define session by position in the table\n",
    "for session_id, male_AM_ex.iterrows():\n",
    "    session = cache.get_session_data(session_id)\n",
    "    print(session_id)\n",
    "    rf = ReceptiveFieldMapping(session)\n",
    "    rf_stim_table = session.stimulus_presentations[session.stimulus_presentations.stimulus_name == 'gabors']\n",
    "    keys = rf_stim_table.keys()\n",
    "    [key for key in keys if len(np.unique(rf_stim_table[key])) > 1]\n",
    "    len(rf_stim_table) / (3 * 9 * 9)\n",
    "    len(rf_stim_table) / len(np.unique(rf_stim_table.stimulus_condition_id))\n",
    "    rf_stim_table.keys()\n",
    "    #### Receptive Field Plotting\n",
    "    rf_mapping = ReceptiveFieldMapping(session)\n",
    "    rf_mapping.stim_table\n",
    "    #### Visual Cortical Targeted\n",
    "    am_units = session.units[session.units.ecephys_structure_acronym == 'VISam']\n",
    "    \n",
    "    def getRF():\n",
    "        try: \n",
    "            return len(rf_mapping.get_receptive_field(am_units.index.values[3]))>=0\n",
    "        except:\n",
    "            return False\n",
    "\n",
    "    if (getRF()):\n",
    "        print('is valid')\n",
    "        RF = rf_mapping.get_receptive_field(am_units.index.values[3])\n",
    "        \n",
    "        def plot_rf(unit_id, index):\n",
    "            RF = rf_mapping.get_receptive_field(unit_id)\n",
    "            _ = plt.subplot(20,20,index+1)\n",
    "            _ = plt.imshow(RF)\n",
    "            _ = plt.axis('off')\n",
    "            #show unit id\n",
    "            #_ = plt.gca().set_title(unit_id, fontsize=8)\n",
    "        \n",
    "        _ = plt.figure(figsize=(20,20))\n",
    "        _ = [plot_rf(RF, index) for index, RF in enumerate(am_units.index.values)]\n",
    "        plt.subplots_adjust(hspace = 0.5)\n",
    "        #show session id (the last unit id is overwritten as session id, I have not found a way to fix it yet)\n",
    "        #plt.gca().set_title(session_id,fontsize=9,color='red')\n",
    "    else:\n",
    "        print('index error')"
   ]
  },
  {
   "cell_type": "markdown",
   "metadata": {},
   "source": [
    "### Female LGN exp"
   ]
  },
  {
   "cell_type": "code",
   "execution_count": 101,
   "metadata": {},
   "outputs": [
    {
     "name": "stdout",
     "output_type": "stream",
     "text": [
      "751348571\n",
      "is valid\n"
     ]
    },
    {
     "data": {
      "image/png": "[encoded data removed]",
      "text/plain": [
       "<Figure size 1440x576 with 55 Axes>"
      ]
     },
     "metadata": {
      "needs_background": "light"
     },
     "output_type": "display_data"
    }
   ],
   "source": [
    "session = cache.get_session_data(751348571)\n",
    "print(session_id)\n",
    "rf = ReceptiveFieldMapping(session)\n",
    "rf_stim_table = session.stimulus_presentations[session.stimulus_presentations.stimulus_name == 'gabors']\n",
    "keys = rf_stim_table.keys()\n",
    "[key for key in keys if len(np.unique(rf_stim_table[key])) > 1]\n",
    "len(rf_stim_table) / (3 * 9 * 9)\n",
    "len(rf_stim_table) / len(np.unique(rf_stim_table.stimulus_condition_id))\n",
    "rf_stim_table.keys()\n",
    "#### Receptive Field Plotting\n",
    "rf_mapping = ReceptiveFieldMapping(session)\n",
    "rf_mapping.stim_table\n",
    "#### Visual Cortical Targeted\n",
    "am_units = session.units[session.units.ecephys_structure_acronym == 'LGd']\n",
    "\n",
    "def getRF():\n",
    "    try: \n",
    "        return len(rf_mapping.get_receptive_field(am_units.index.values[3]))>=0\n",
    "    except:\n",
    "        return False\n",
    "\n",
    "if (getRF()):\n",
    "    print('is valid')\n",
    "    RF = rf_mapping.get_receptive_field(am_units.index.values[3])\n",
    "        \n",
    "    def plot_rf(unit_id, index):\n",
    "        RF = rf_mapping.get_receptive_field(unit_id)\n",
    "        _ = plt.subplot(5,15,index+1)\n",
    "        _ = plt.imshow(RF)\n",
    "        _ = plt.axis('off')\n",
    "        #show unit id\n",
    "        #_ = plt.gca().set_title(unit_id, fontsize=8)\n",
    "        \n",
    "    _ = plt.figure(figsize=(20,8))\n",
    "    _ = [plot_rf(RF, index) for index, RF in enumerate(am_units.index.values)]\n",
    "    plt.subplots_adjust(hspace = 0.4)\n",
    "    #show session id (the last unit id is overwritten as session id, I have not found a way to fix it yet)\n",
    "    #plt.gca().set_title(session_id,fontsize=9,color='red')\n",
    "else:\n",
    "    print('index error')"
   ]
  },
  {
   "cell_type": "markdown",
   "metadata": {},
   "source": [
    "### Female AM"
   ]
  },
  {
   "cell_type": "code",
   "execution_count": 102,
   "metadata": {},
   "outputs": [
    {
     "name": "stdout",
     "output_type": "stream",
     "text": [
      "751348571\n",
      "is valid\n"
     ]
    },
    {
     "data": {
      "image/png": "[encoded data removed]",
      "text/plain": [
       "<Figure size 1440x576 with 71 Axes>"
      ]
     },
     "metadata": {
      "needs_background": "light"
     },
     "output_type": "display_data"
    }
   ],
   "source": [
    "session = cache.get_session_data(751348571)\n",
    "print(session_id)\n",
    "rf = ReceptiveFieldMapping(session)\n",
    "rf_stim_table = session.stimulus_presentations[session.stimulus_presentations.stimulus_name == 'gabors']\n",
    "keys = rf_stim_table.keys()\n",
    "[key for key in keys if len(np.unique(rf_stim_table[key])) > 1]\n",
    "len(rf_stim_table) / (3 * 9 * 9)\n",
    "len(rf_stim_table) / len(np.unique(rf_stim_table.stimulus_condition_id))\n",
    "rf_stim_table.keys()\n",
    "#### Receptive Field Plotting\n",
    "rf_mapping = ReceptiveFieldMapping(session)\n",
    "rf_mapping.stim_table\n",
    "#### Visual Cortical Targeted\n",
    "am_units = session.units[session.units.ecephys_structure_acronym == 'VISam']\n",
    "\n",
    "def getRF():\n",
    "    try: \n",
    "        return len(rf_mapping.get_receptive_field(am_units.index.values[3]))>=0\n",
    "    except:\n",
    "        return False\n",
    "\n",
    "if (getRF()):\n",
    "    print('is valid')\n",
    "    RF = rf_mapping.get_receptive_field(am_units.index.values[3])\n",
    "        \n",
    "    def plot_rf(unit_id, index):\n",
    "        RF = rf_mapping.get_receptive_field(unit_id)\n",
    "        _ = plt.subplot(5,15,index+1)\n",
    "        _ = plt.imshow(RF)\n",
    "        _ = plt.axis('off')\n",
    "        #show unit id\n",
    "        #_ = plt.gca().set_title(unit_id, fontsize=8)\n",
    "        \n",
    "    _ = plt.figure(figsize=(20,8))\n",
    "    _ = [plot_rf(RF, index) for index, RF in enumerate(am_units.index.values)]\n",
    "    plt.subplots_adjust(hspace = 0.4)\n",
    "    #show session id (the last unit id is overwritten as session id, I have not found a way to fix it yet)\n",
    "    #plt.gca().set_title(session_id,fontsize=9,color='red')\n",
    "else:\n",
    "    print('index error')"
   ]
  },
  {
   "cell_type": "markdown",
   "metadata": {},
   "source": [
    "### Male LGN exp"
   ]
  },
  {
   "cell_type": "code",
   "execution_count": 98,
   "metadata": {},
   "outputs": [
    {
     "name": "stdout",
     "output_type": "stream",
     "text": [
      "751348571\n",
      "is valid\n"
     ]
    },
    {
     "data": {
      "image/png": "[encoded data removed]",
      "text/plain": [
       "<Figure size 1440x576 with 71 Axes>"
      ]
     },
     "metadata": {
      "needs_background": "light"
     },
     "output_type": "display_data"
    }
   ],
   "source": [
    "session = cache.get_session_data(719161530)\n",
    "print(session_id)\n",
    "rf = ReceptiveFieldMapping(session)\n",
    "rf_stim_table = session.stimulus_presentations[session.stimulus_presentations.stimulus_name == 'gabors']\n",
    "keys = rf_stim_table.keys()\n",
    "[key for key in keys if len(np.unique(rf_stim_table[key])) > 1]\n",
    "len(rf_stim_table) / (3 * 9 * 9)\n",
    "len(rf_stim_table) / len(np.unique(rf_stim_table.stimulus_condition_id))\n",
    "rf_stim_table.keys()\n",
    "#### Receptive Field Plotting\n",
    "rf_mapping = ReceptiveFieldMapping(session)\n",
    "rf_mapping.stim_table\n",
    "#### Visual Cortical Targeted\n",
    "am_units = session.units[session.units.ecephys_structure_acronym == 'LGd']\n",
    "\n",
    "def getRF():\n",
    "    try: \n",
    "        return len(rf_mapping.get_receptive_field(am_units.index.values[3]))>=0\n",
    "    except:\n",
    "        return False\n",
    "\n",
    "if (getRF()):\n",
    "    print('is valid')\n",
    "    RF = rf_mapping.get_receptive_field(am_units.index.values[3])\n",
    "        \n",
    "    def plot_rf(unit_id, index):\n",
    "        RF = rf_mapping.get_receptive_field(unit_id)\n",
    "        _ = plt.subplot(5,15,index+1)\n",
    "        _ = plt.imshow(RF)\n",
    "        _ = plt.axis('off')\n",
    "        \n",
    "    _ = plt.figure(figsize=(20,8))\n",
    "    _ = [plot_rf(RF, index) for index, RF in enumerate(am_units.index.values)]\n",
    "    plt.subplots_adjust(hspace = 0.4)\n",
    "else:\n",
    "    print('index error')"
   ]
  },
  {
   "cell_type": "markdown",
   "metadata": {},
   "source": [
    "### Male AM exp"
   ]
  },
  {
   "cell_type": "code",
   "execution_count": 95,
   "metadata": {},
   "outputs": [
    {
     "name": "stdout",
     "output_type": "stream",
     "text": [
      "751348571\n",
      "is valid\n"
     ]
    },
    {
     "data": {
      "image/png": "[encoded data removed]",
      "text/plain": [
       "<Figure size 1440x576 with 30 Axes>"
      ]
     },
     "metadata": {
      "needs_background": "light"
     },
     "output_type": "display_data"
    }
   ],
   "source": [
    "session = cache.get_session_data(715093703)\n",
    "print(session_id)\n",
    "rf = ReceptiveFieldMapping(session)\n",
    "rf_stim_table = session.stimulus_presentations[session.stimulus_presentations.stimulus_name == 'gabors']\n",
    "keys = rf_stim_table.keys()\n",
    "[key for key in keys if len(np.unique(rf_stim_table[key])) > 1]\n",
    "len(rf_stim_table) / (3 * 9 * 9)\n",
    "len(rf_stim_table) / len(np.unique(rf_stim_table.stimulus_condition_id))\n",
    "rf_stim_table.keys()\n",
    "#### Receptive Field Plotting\n",
    "rf_mapping = ReceptiveFieldMapping(session)\n",
    "rf_mapping.stim_table\n",
    "#### Visual Cortical Targeted\n",
    "am_units = session.units[session.units.ecephys_structure_acronym == 'VISam']\n",
    "\n",
    "def getRF():\n",
    "    try: \n",
    "        return len(rf_mapping.get_receptive_field(am_units.index.values[3]))>=0\n",
    "    except:\n",
    "        return False\n",
    "\n",
    "if (getRF()):\n",
    "    print('is valid')\n",
    "    RF = rf_mapping.get_receptive_field(am_units.index.values[3])\n",
    "        \n",
    "    def plot_rf(unit_id, index):\n",
    "        RF = rf_mapping.get_receptive_field(unit_id)\n",
    "        _ = plt.subplot(5,15,index+1)\n",
    "        _ = plt.imshow(RF)\n",
    "        _ = plt.axis('off')\n",
    "        #show unit id\n",
    "        #_ = plt.gca().set_title(unit_id, fontsize=8)\n",
    "        \n",
    "    _ = plt.figure(figsize=(20,8))\n",
    "    _ = [plot_rf(RF, index) for index, RF in enumerate(am_units.index.values)]\n",
    "    plt.subplots_adjust(hspace = 0.4)\n",
    "    #show session id (the last unit id is overwritten as session id, I have not found a way to fix it yet)\n",
    "    #plt.gca().set_title(session_id,fontsize=9,color='red')\n",
    "else:\n",
    "    print('index error')"
   ]
  },
  {
   "cell_type": "code",
   "execution_count": null,
   "metadata": {},
   "outputs": [],
   "source": []
  },
  {
   "cell_type": "code",
   "execution_count": null,
   "metadata": {},
   "outputs": [],
   "source": []
  }
 ],
 "metadata": {
  "colab": {
   "collapsed_sections": [
    "l8Hfwce1CBjR",
    "w9LRG1ExCBjR",
    "axz0XldiCBjV"
   ],
   "name": "NSCI Team 4.ipynb",
   "provenance": []
  },
  "kernelspec": {
   "display_name": "Python 3",
   "language": "python",
   "name": "python3"
  },
  "language_info": {
   "codemirror_mode": {
    "name": "ipython",
    "version": 3
   },
   "file_extension": ".py",
   "mimetype": "text/x-python",
   "name": "python",
   "nbconvert_exporter": "python",
   "pygments_lexer": "ipython3",
   "version": "3.7.4"
  }
 },
 "nbformat": 4,
 "nbformat_minor": 5
}
