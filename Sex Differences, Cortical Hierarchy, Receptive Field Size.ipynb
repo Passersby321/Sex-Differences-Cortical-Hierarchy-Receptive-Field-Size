{
 "cells": [
  {
   "cell_type": "markdown",
   "metadata": {
    "id": "gnu-bzMfD8wz"
   },
   "source": [
    "# Sex Differences, Cortical Hierarchy, Receptive Field Size"
   ]
  },
  {
   "cell_type": "markdown",
   "metadata": {
    "id": "oqc8EFpFD8w4"
   },
   "source": [
    "### Purpose:\n",
    "1. Use our filtered data to explore differences in receptive field sizes\n",
    "2. Specifically we need to fix errors in our code that we are getting to match our filtered data to the receptive field data.\n",
    "3. Create figures hihglighting experimental results\n",
    "\n",
    "### Protocols:\n",
    "1. Import all Allen Data for Neuropixels\n",
    "2. Run code to get our filtered data sessions for male and female mice from LGN and AM brain regions\n",
    "3. Troubleshoot errors in code\n",
    "4. Align unit id of filtered data sessions to corresponding visual cortical regions AM or LGN \n",
    "5. Plot graph\n",
    "\n",
    "### Expected Results:\n",
    "1. plot receptive field outline of AM and LGN of a signle session in the same graph"
   ]
  },
  {
   "cell_type": "markdown",
   "metadata": {
    "id": "VSuFrG9gD8w5"
   },
   "source": [
    "### Installing AllenSDK in local environment"
   ]
  },
  {
   "cell_type": "code",
   "execution_count": 1,
   "metadata": {
    "colab": {
     "base_uri": "https://localhost:8080/"
    },
    "id": "cfp-DeUgD8w6",
    "outputId": "55fce7c7-3651-4537-81ea-b23f28257ffd"
   },
   "outputs": [
    {
     "name": "stdout",
     "output_type": "stream",
     "text": [
      "Defaulting to user installation because normal site-packages is not writeable\n",
      "Requirement already satisfied: pip in /nas/longleaf/home/renzhi/.local/lib/python3.7/site-packages (22.0.4)\n",
      "Note: you may need to restart the kernel to use updated packages.\n"
     ]
    }
   ],
   "source": [
    "pip install --upgrade pip"
   ]
  },
  {
   "cell_type": "code",
   "execution_count": 2,
   "metadata": {
    "colab": {
     "base_uri": "https://localhost:8080/"
    },
    "id": "xuUiFlcwD8w8",
    "outputId": "1cda9ed7-fb93-4edf-8c2d-705e944fa2b3"
   },
   "outputs": [
    {
     "name": "stdout",
     "output_type": "stream",
     "text": [
      "Defaulting to user installation because normal site-packages is not writeable\n",
      "Requirement already satisfied: allensdk in /nas/longleaf/home/renzhi/.local/lib/python3.7/site-packages (2.13.2)\n",
      "Requirement already satisfied: scikit-build<1.0.0 in /nas/longleaf/home/renzhi/.local/lib/python3.7/site-packages (from allensdk) (0.12.0)\n",
      "Requirement already satisfied: pynwb in /nas/longleaf/home/renzhi/.local/lib/python3.7/site-packages (from allensdk) (2.0.0)\n",
      "Requirement already satisfied: requests-toolbelt<1.0.0 in /nas/longleaf/home/renzhi/.local/lib/python3.7/site-packages (from allensdk) (0.9.1)\n",
      "Requirement already satisfied: pandas>=1.1.5 in /nas/longleaf/home/renzhi/.local/lib/python3.7/site-packages (from allensdk) (1.3.5)\n",
      "Requirement already satisfied: statsmodels<=0.13.0 in /nas/longleaf/home/renzhi/.local/lib/python3.7/site-packages (from allensdk) (0.13.0)\n",
      "Requirement already satisfied: future<1.0.0,>=0.14.3 in /nas/longleaf/home/renzhi/.local/lib/python3.7/site-packages (from allensdk) (0.18.2)\n",
      "Requirement already satisfied: ndx-events<=0.2.0 in /nas/longleaf/home/renzhi/.local/lib/python3.7/site-packages (from allensdk) (0.2.0)\n",
      "Requirement already satisfied: boto3==1.17.21 in /nas/longleaf/home/renzhi/.local/lib/python3.7/site-packages (from allensdk) (1.17.21)\n",
      "Requirement already satisfied: matplotlib<3.4.3,>=1.4.3 in /nas/longleaf/apps/anaconda/2019.10.ood/lib/python3.7/site-packages (from allensdk) (3.1.1)\n",
      "Requirement already satisfied: scikit-image<0.17.0,>=0.14.0 in /nas/longleaf/home/renzhi/.local/lib/python3.7/site-packages (from allensdk) (0.16.2)\n",
      "Requirement already satisfied: jinja2<2.12.0,>=2.7.3 in /nas/longleaf/apps/anaconda/2019.10.ood/lib/python3.7/site-packages (from allensdk) (2.11.2)\n",
      "Requirement already satisfied: pynrrd<1.0.0,>=0.2.1 in /nas/longleaf/home/renzhi/.local/lib/python3.7/site-packages (from allensdk) (0.4.2)\n",
      "Requirement already satisfied: psycopg2-binary<3.0.0,>=2.7 in /nas/longleaf/home/renzhi/.local/lib/python3.7/site-packages (from allensdk) (2.9.3)\n",
      "Requirement already satisfied: scipy<2.0.0,>=1.4.0 in /nas/longleaf/apps/anaconda/2019.10.ood/lib/python3.7/site-packages (from allensdk) (1.7.1)\n",
      "Requirement already satisfied: simplejson<4.0.0,>=3.10.0 in /nas/longleaf/home/renzhi/.local/lib/python3.7/site-packages (from allensdk) (3.17.6)\n",
      "Requirement already satisfied: argschema<4.0.0,>=3.0.1 in /nas/longleaf/home/renzhi/.local/lib/python3.7/site-packages (from allensdk) (3.0.1)\n",
      "Requirement already satisfied: numpy in /nas/longleaf/apps/anaconda/2019.10.ood/lib/python3.7/site-packages (from allensdk) (1.21.2)\n",
      "Requirement already satisfied: hdmf>=2.5.8 in /nas/longleaf/home/renzhi/.local/lib/python3.7/site-packages (from allensdk) (3.1.1)\n",
      "Requirement already satisfied: requests<3.0.0 in /nas/longleaf/home/renzhi/.local/lib/python3.7/site-packages (from allensdk) (2.27.1)\n",
      "Requirement already satisfied: seaborn<1.0.0 in /nas/longleaf/apps/anaconda/2019.10.ood/lib/python3.7/site-packages (from allensdk) (0.9.0)\n",
      "Requirement already satisfied: tqdm>=4.27 in /nas/longleaf/home/renzhi/.local/lib/python3.7/site-packages (from allensdk) (4.62.3)\n",
      "Requirement already satisfied: xarray<0.16.0 in /nas/longleaf/home/renzhi/.local/lib/python3.7/site-packages (from allensdk) (0.15.1)\n",
      "Requirement already satisfied: tables<3.7.0,>=3.6.0 in /nas/longleaf/home/renzhi/.local/lib/python3.7/site-packages (from allensdk) (3.6.1)\n",
      "Requirement already satisfied: cachetools<5.0.0,>=4.2.1 in /nas/longleaf/home/renzhi/.local/lib/python3.7/site-packages (from allensdk) (4.2.4)\n",
      "Requirement already satisfied: simpleitk<3.0.0,>=2.0.2 in /nas/longleaf/home/renzhi/.local/lib/python3.7/site-packages (from allensdk) (2.1.1)\n",
      "Requirement already satisfied: six<2.0.0,>=1.9.0 in /nas/longleaf/apps/anaconda/2019.10.ood/lib/python3.7/site-packages (from allensdk) (1.15.0)\n",
      "Requirement already satisfied: semver in /nas/longleaf/home/renzhi/.local/lib/python3.7/site-packages (from allensdk) (2.13.0)\n",
      "Requirement already satisfied: h5py in /nas/longleaf/home/renzhi/.local/lib/python3.7/site-packages (from allensdk) (3.6.0)\n",
      "Requirement already satisfied: glymur==0.8.19 in /nas/longleaf/home/renzhi/.local/lib/python3.7/site-packages (from allensdk) (0.8.19)\n",
      "Requirement already satisfied: nest-asyncio in /nas/longleaf/apps/anaconda/2019.10.ood/lib/python3.7/site-packages (from allensdk) (1.4.2)\n",
      "Requirement already satisfied: aiohttp==3.7.4 in /nas/longleaf/home/renzhi/.local/lib/python3.7/site-packages (from allensdk) (3.7.4)\n",
      "Requirement already satisfied: async-timeout<4.0,>=3.0 in /nas/longleaf/home/renzhi/.local/lib/python3.7/site-packages (from aiohttp==3.7.4->allensdk) (3.0.1)\n",
      "Requirement already satisfied: typing-extensions>=3.6.5 in /nas/longleaf/apps/anaconda/2019.10.ood/lib/python3.7/site-packages (from aiohttp==3.7.4->allensdk) (3.7.4.3)\n",
      "Requirement already satisfied: attrs>=17.3.0 in /nas/longleaf/apps/anaconda/2019.10.ood/lib/python3.7/site-packages (from aiohttp==3.7.4->allensdk) (19.3.0)\n",
      "Requirement already satisfied: chardet<4.0,>=2.0 in /nas/longleaf/home/renzhi/.local/lib/python3.7/site-packages (from aiohttp==3.7.4->allensdk) (3.0.4)\n",
      "Requirement already satisfied: multidict<7.0,>=4.5 in /nas/longleaf/home/renzhi/.local/lib/python3.7/site-packages (from aiohttp==3.7.4->allensdk) (6.0.2)\n",
      "Requirement already satisfied: yarl<2.0,>=1.0 in /nas/longleaf/home/renzhi/.local/lib/python3.7/site-packages (from aiohttp==3.7.4->allensdk) (1.7.2)\n",
      "Requirement already satisfied: s3transfer<0.4.0,>=0.3.0 in /nas/longleaf/home/renzhi/.local/lib/python3.7/site-packages (from boto3==1.17.21->allensdk) (0.3.7)\n",
      "Requirement already satisfied: jmespath<1.0.0,>=0.7.1 in /nas/longleaf/home/renzhi/.local/lib/python3.7/site-packages (from boto3==1.17.21->allensdk) (0.10.0)\n",
      "Requirement already satisfied: botocore<1.21.0,>=1.20.21 in /nas/longleaf/home/renzhi/.local/lib/python3.7/site-packages (from boto3==1.17.21->allensdk) (1.20.112)\n",
      "Requirement already satisfied: setuptools in /nas/longleaf/apps/anaconda/2019.10.ood/lib/python3.7/site-packages (from glymur==0.8.19->allensdk) (49.6.0.post20200814)\n",
      "Requirement already satisfied: pyyaml in /nas/longleaf/home/renzhi/.local/lib/python3.7/site-packages (from argschema<4.0.0,>=3.0.1->allensdk) (6.0)\n",
      "Requirement already satisfied: marshmallow<4.0,>=3.0.0 in /nas/longleaf/home/renzhi/.local/lib/python3.7/site-packages (from argschema<4.0.0,>=3.0.1->allensdk) (3.14.1)\n",
      "Collecting ruamel.yaml<1,>=0.16\n",
      "  Using cached ruamel.yaml-0.17.21-py3-none-any.whl (109 kB)\n",
      "Requirement already satisfied: jsonschema<4,>=2.6.0 in /nas/longleaf/apps/anaconda/2019.10.ood/lib/python3.7/site-packages (from hdmf>=2.5.8->allensdk) (3.0.2)\n",
      "Requirement already satisfied: cached-property in /nas/longleaf/home/renzhi/.local/lib/python3.7/site-packages (from h5py->allensdk) (1.5.2)\n",
      "Requirement already satisfied: MarkupSafe>=0.23 in /nas/longleaf/apps/anaconda/2019.10.ood/lib/python3.7/site-packages (from jinja2<2.12.0,>=2.7.3->allensdk) (1.1.1)\n",
      "Requirement already satisfied: cycler>=0.10 in /nas/longleaf/apps/anaconda/2019.10.ood/lib/python3.7/site-packages (from matplotlib<3.4.3,>=1.4.3->allensdk) (0.10.0)\n",
      "Requirement already satisfied: kiwisolver>=1.0.1 in /nas/longleaf/apps/anaconda/2019.10.ood/lib/python3.7/site-packages (from matplotlib<3.4.3,>=1.4.3->allensdk) (1.1.0)\n",
      "Requirement already satisfied: pyparsing!=2.0.4,!=2.1.2,!=2.1.6,>=2.0.1 in /nas/longleaf/apps/anaconda/2019.10.ood/lib/python3.7/site-packages (from matplotlib<3.4.3,>=1.4.3->allensdk) (2.4.7)\n",
      "Requirement already satisfied: python-dateutil>=2.1 in /nas/longleaf/apps/anaconda/2019.10.ood/lib/python3.7/site-packages (from matplotlib<3.4.3,>=1.4.3->allensdk) (2.8.1)\n",
      "Requirement already satisfied: pytz>=2017.3 in /nas/longleaf/apps/anaconda/2019.10.ood/lib/python3.7/site-packages (from pandas>=1.1.5->allensdk) (2020.1)\n",
      "Requirement already satisfied: urllib3<1.27,>=1.21.1 in /nas/longleaf/home/renzhi/.local/lib/python3.7/site-packages (from requests<3.0.0->allensdk) (1.26.8)\n",
      "Requirement already satisfied: charset-normalizer~=2.0.0 in /nas/longleaf/home/renzhi/.local/lib/python3.7/site-packages (from requests<3.0.0->allensdk) (2.0.11)\n",
      "Requirement already satisfied: certifi>=2017.4.17 in /nas/longleaf/apps/anaconda/2019.10.ood/lib/python3.7/site-packages (from requests<3.0.0->allensdk) (2019.11.28)\n",
      "Requirement already satisfied: idna<4,>=2.5 in /nas/longleaf/home/renzhi/.local/lib/python3.7/site-packages (from requests<3.0.0->allensdk) (3.3)\n",
      "Requirement already satisfied: packaging in /nas/longleaf/apps/anaconda/2019.10.ood/lib/python3.7/site-packages (from scikit-build<1.0.0->allensdk) (20.4)\n",
      "Requirement already satisfied: wheel>=0.29.0 in /nas/longleaf/apps/anaconda/2019.10.ood/lib/python3.7/site-packages (from scikit-build<1.0.0->allensdk) (0.34.2)\n",
      "Requirement already satisfied: distro in /nas/longleaf/home/renzhi/.local/lib/python3.7/site-packages (from scikit-build<1.0.0->allensdk) (1.6.0)\n",
      "Requirement already satisfied: imageio>=2.3.0 in /nas/longleaf/home/renzhi/.local/lib/python3.7/site-packages (from scikit-image<0.17.0,>=0.14.0->allensdk) (2.14.1)\n",
      "Requirement already satisfied: networkx>=2.0 in /nas/longleaf/home/renzhi/.local/lib/python3.7/site-packages (from scikit-image<0.17.0,>=0.14.0->allensdk) (2.6.3)\n",
      "Requirement already satisfied: PyWavelets>=0.4.0 in /nas/longleaf/home/renzhi/.local/lib/python3.7/site-packages (from scikit-image<0.17.0,>=0.14.0->allensdk) (1.2.0)\n",
      "Requirement already satisfied: pillow>=4.3.0 in /nas/longleaf/home/renzhi/.local/lib/python3.7/site-packages (from scikit-image<0.17.0,>=0.14.0->allensdk) (9.0.0)\n",
      "Requirement already satisfied: patsy>=0.5.2 in /nas/longleaf/home/renzhi/.local/lib/python3.7/site-packages (from statsmodels<=0.13.0->allensdk) (0.5.2)\n",
      "Requirement already satisfied: numexpr>=2.6.2 in /nas/longleaf/home/renzhi/.local/lib/python3.7/site-packages (from tables<3.7.0,>=3.6.0->allensdk) (2.8.1)\n",
      "Requirement already satisfied: pyrsistent>=0.14.0 in /nas/longleaf/apps/anaconda/2019.10.ood/lib/python3.7/site-packages (from jsonschema<4,>=2.6.0->hdmf>=2.5.8->allensdk) (0.16.0)\n",
      "Requirement already satisfied: ruamel.yaml.clib>=0.2.6 in /nas/longleaf/home/renzhi/.local/lib/python3.7/site-packages (from ruamel.yaml<1,>=0.16->hdmf>=2.5.8->allensdk) (0.2.6)\n",
      "Installing collected packages: ruamel.yaml\n",
      "\u001b[31mERROR: pip's dependency resolver does not currently take into account all the packages that are installed. This behaviour is the source of the following dependency conflicts.\n",
      "deeplabcut 2.1.6.2 requires h5py~=2.7, but you have h5py 3.6.0 which is incompatible.\n",
      "deeplabcut 2.1.6.2 requires matplotlib==3.0.3, but you have matplotlib 3.1.1 which is incompatible.\n",
      "deeplabcut 2.1.6.2 requires numpy==1.16.4, but you have numpy 1.21.2 which is incompatible.\u001b[0m\u001b[31m\n",
      "\u001b[0mSuccessfully installed ruamel.yaml-0.17.21\n",
      "Note: you may need to restart the kernel to use updated packages.\n"
     ]
    }
   ],
   "source": [
    "pip install allensdk"
   ]
  },
  {
   "cell_type": "markdown",
   "metadata": {
    "id": "aUILiVdDD8w8"
   },
   "source": [
    "### Import Packages"
   ]
  },
  {
   "cell_type": "code",
   "execution_count": 3,
   "metadata": {
    "id": "452uYGvUD8w9"
   },
   "outputs": [],
   "source": [
    "import os\n",
    "import shutil\n",
    "import allensdk\n",
    "import pprint\n",
    "from pathlib import Path\n",
    "\n",
    "import numpy as np\n",
    "import pandas as pd\n",
    "import scipy.stats as st\n",
    "from allensdk.brain_observatory.ecephys.stimulus_analysis.drifting_gratings import DriftingGratings\n",
    "import matplotlib\n",
    "import matplotlib.pyplot as plt\n",
    "%matplotlib inline\n",
    "import seaborn as sns\n",
    "sns.set_context('notebook', font_scale=1.5, rc={'lines.markeredgewidth': 2})\n",
    "\n",
    "# Graphing for indivdual units\n",
    "from allensdk.brain_observatory.ecephys.ecephys_session import EcephysSession\n",
    "from allensdk.brain_observatory.ecephys.ecephys_project_cache import EcephysProjectCache\n",
    "from allensdk.brain_observatory.ecephys.stimulus_analysis.receptive_field_mapping import ReceptiveFieldMapping\n",
    "\n",
    "#Graphing for RF Distribution and RF outlines\n",
    "from scipy.ndimage.filters import gaussian_filter1d\n",
    "from sklearn.utils import resample \n",
    "\n",
    "import warnings\n",
    "warnings.filterwarnings(\"ignore\")"
   ]
  },
  {
   "cell_type": "markdown",
   "metadata": {
    "id": "8DTEhPnKCBjQ"
   },
   "source": [
    "### Import Neuropixels Data cache object and create directory on LongLeaf storage"
   ]
  },
  {
   "cell_type": "code",
   "execution_count": 4,
   "metadata": {
    "id": "LlQu69p8CBjQ"
   },
   "outputs": [],
   "source": [
    "#data directory for extracellular ephysdata: /overflow/NSCI274/projects/ecephysdata/\n",
    "data_directory = \"/overflow/NSCI274/projects/ecephysdata/\"\n",
    "\n",
    "#import the data folder to your in Jupternotebook and copy the complete directory here\n",
    "code_directory = \"/nas/longleaf/home/renzhi/\"\n",
    "\n",
    "manifest_path = os.path.join(data_directory,\"manifest.json\")\n",
    "\n",
    "cache = EcephysProjectCache.from_warehouse(manifest=manifest_path)"
   ]
  },
  {
   "cell_type": "markdown",
   "metadata": {
    "id": "l8Hfwce1CBjR"
   },
   "source": [
    "#### All neuropixel sessions "
   ]
  },
  {
   "cell_type": "code",
   "execution_count": 5,
   "metadata": {
    "colab": {
     "base_uri": "https://localhost:8080/",
     "height": 219
    },
    "id": "aVXrHZGcCBjR",
    "outputId": "fd953937-5b9b-480b-d360-b6006d30da63"
   },
   "outputs": [],
   "source": [
    "sessions = cache.get_session_table()\n",
    "\n",
    "#total_sessions = len(sessions)\n",
    "#sessions.head(n)"
   ]
  },
  {
   "cell_type": "markdown",
   "metadata": {
    "id": "v42ZNw4DCBjR"
   },
   "source": [
    "### Data Filter"
   ]
  },
  {
   "cell_type": "markdown",
   "metadata": {
    "id": "w9LRG1ExCBjR"
   },
   "source": [
    "#### Male with LGN"
   ]
  },
  {
   "cell_type": "code",
   "execution_count": 22,
   "metadata": {
    "colab": {
     "base_uri": "https://localhost:8080/",
     "height": 236
    },
    "id": "YnvkztupCBjR",
    "outputId": "650f79f4-b805-43eb-f78b-17f8ee830719"
   },
   "outputs": [
    {
     "name": "stdout",
     "output_type": "stream",
     "text": [
      "28\n"
     ]
    }
   ],
   "source": [
    "filtered_sessions_male_LGN = sessions[(sessions.sex == 'M') & \\\n",
    "                             (['LGd' in acronyms for acronyms in \n",
    "                               sessions.ecephys_structure_acronyms])]\n",
    "\n",
    "total_sessions_male_LGN = len(filtered_sessions_male_LGN)\n",
    "\n",
    "print(str(total_sessions_male_LGN))\n",
    "\n",
    "#show the graph\n",
    "#filtered_sessions_male_LGN.head()"
   ]
  },
  {
   "cell_type": "markdown",
   "metadata": {
    "id": "91THAJhbCBjS"
   },
   "source": [
    "#### Male with AM"
   ]
  },
  {
   "cell_type": "code",
   "execution_count": 23,
   "metadata": {
    "id": "6Ntf-yofCBjS"
   },
   "outputs": [
    {
     "name": "stdout",
     "output_type": "stream",
     "text": [
      "38\n"
     ]
    }
   ],
   "source": [
    "filtered_sessions_male_AM = sessions[(sessions.sex == 'M') & \\\n",
    "                             (['VISam' in acronyms for acronyms in \n",
    "                               sessions.ecephys_structure_acronyms])]\n",
    "total_sessions_male_AM = len(filtered_sessions_male_AM)\n",
    "\n",
    "print(str(total_sessions_male_AM))\n",
    "\n",
    "#show the graph\n",
    "#filtered_sessions_male_AM.head()"
   ]
  },
  {
   "cell_type": "markdown",
   "metadata": {
    "id": "Wd6NME-9CBjT"
   },
   "source": [
    "#### Female with LGN"
   ]
  },
  {
   "cell_type": "code",
   "execution_count": 24,
   "metadata": {
    "id": "sXv7mBGlCBjT"
   },
   "outputs": [
    {
     "name": "stdout",
     "output_type": "stream",
     "text": [
      "6\n"
     ]
    }
   ],
   "source": [
    "filtered_sessions_female_LGN = sessions[(sessions.sex == 'F') & \\\n",
    "                             #(sessions.full_genotype.str.find('Sst') > -1) & \\\n",
    "                             #(sessions.session_type == 'brain_observatory_1.1') & \\\n",
    "                             (['LGd' in acronyms for acronyms in \n",
    "                               sessions.ecephys_structure_acronyms])]\n",
    "total_sessions_female_LGN = len(filtered_sessions_female_LGN)\n",
    "\n",
    "print(str(total_sessions_female_LGN))\n",
    "\n",
    "#show the graph\n",
    "#filtered_sessions_female_LGN.head()"
   ]
  },
  {
   "cell_type": "markdown",
   "metadata": {
    "id": "Zw8_M3vhCBjT"
   },
   "source": [
    "#### Female with AM"
   ]
  },
  {
   "cell_type": "code",
   "execution_count": 25,
   "metadata": {
    "id": "_mQATz0WCBjT"
   },
   "outputs": [
    {
     "name": "stdout",
     "output_type": "stream",
     "text": [
      "12\n"
     ]
    }
   ],
   "source": [
    "filtered_sessions_female_AM = sessions[(sessions.sex == 'F') & \\\n",
    "                             (['VISam' in acronyms for acronyms in \n",
    "                               sessions.ecephys_structure_acronyms])]\n",
    "total_sessions_female_AM = len(filtered_sessions_female_AM)\n",
    "\n",
    "print(str(total_sessions_female_AM))\n",
    "\n",
    "#show the graph\n",
    "#filtered_sessions_female_AM.head()"
   ]
  },
  {
   "cell_type": "markdown",
   "metadata": {
    "id": "Zb1Sj-HZCBjU"
   },
   "source": [
    "### Receptive Field for Individual Units"
   ]
  },
  {
   "cell_type": "markdown",
   "metadata": {},
   "source": [
    "#### Receptive Field Mapping Stimulus"
   ]
  },
  {
   "cell_type": "code",
   "execution_count": 6,
   "metadata": {
    "id": "8oKOFMn3CBjU"
   },
   "outputs": [
    {
     "name": "stdout",
     "output_type": "stream",
     "text": [
      "719161530\n"
     ]
    }
   ],
   "source": [
    "#define session by id\n",
    "#session_id = 746083955\n",
    "#session = cache.get_session_data(session_id)\n",
    "\n",
    "#define session by position in the table\n",
    "session = cache.get_session_data(sessions.index.values[1])\n",
    "print(sessions.index.values[1])\n",
    "rf = ReceptiveFieldMapping(session)"
   ]
  },
  {
   "cell_type": "code",
   "execution_count": 7,
   "metadata": {
    "id": "pZ6Hf1miCBjU"
   },
   "outputs": [
    {
     "data": {
      "text/plain": [
       "3596"
      ]
     },
     "execution_count": 7,
     "metadata": {},
     "output_type": "execute_result"
    }
   ],
   "source": [
    "rf_stim_table = session.stimulus_presentations[session.stimulus_presentations.stimulus_name == 'gabors']\n",
    "\n",
    "len(rf_stim_table)"
   ]
  },
  {
   "cell_type": "code",
   "execution_count": 8,
   "metadata": {},
   "outputs": [
    {
     "data": {
      "text/plain": [
       "['orientation',\n",
       " 'start_time',\n",
       " 'stop_time',\n",
       " 'x_position',\n",
       " 'y_position',\n",
       " 'duration',\n",
       " 'stimulus_condition_id']"
      ]
     },
     "execution_count": 8,
     "metadata": {},
     "output_type": "execute_result"
    }
   ],
   "source": [
    "keys = rf_stim_table.keys()\n",
    "[key for key in keys if len(np.unique(rf_stim_table[key])) > 1]"
   ]
  },
  {
   "cell_type": "code",
   "execution_count": 9,
   "metadata": {},
   "outputs": [
    {
     "name": "stdout",
     "output_type": "stream",
     "text": [
      "Unique orientations : [0.0, 45.0, 90.0]\n",
      "Unique x positions : [-40.0, -30.0, -20.0, -10.0, 0.0, 10.0, 20.0, 30.0, 40.0]\n",
      "Unique y positions : [-40.0, -30.0, -20.0, -10.0, 0.0, 10.0, 20.0, 30.0, 40.0]\n"
     ]
    }
   ],
   "source": [
    "print('Unique orientations : ' + str(list(np.sort(rf_stim_table.orientation.unique()))))\n",
    "print('Unique x positions : ' + str(list(np.sort(rf_stim_table.x_position.unique()))))\n",
    "print('Unique y positions : ' + str(list(np.sort(rf_stim_table.y_position.unique()))))"
   ]
  },
  {
   "cell_type": "code",
   "execution_count": 10,
   "metadata": {
    "id": "0jNFA2wOCBjU",
    "outputId": "4c03791c-c691-4e8a-8336-d2a6d7715b6a"
   },
   "outputs": [
    {
     "data": {
      "text/plain": [
       "14.798353909465021"
      ]
     },
     "execution_count": 10,
     "metadata": {},
     "output_type": "execute_result"
    }
   ],
   "source": [
    "len(rf_stim_table) / (3 * 9 * 9)"
   ]
  },
  {
   "cell_type": "code",
   "execution_count": 11,
   "metadata": {},
   "outputs": [
    {
     "data": {
      "text/plain": [
       "14.798353909465021"
      ]
     },
     "execution_count": 11,
     "metadata": {},
     "output_type": "execute_result"
    }
   ],
   "source": [
    "len(rf_stim_table) / len(np.unique(rf_stim_table.stimulus_condition_id))"
   ]
  },
  {
   "cell_type": "code",
   "execution_count": 12,
   "metadata": {},
   "outputs": [
    {
     "name": "stdout",
     "output_type": "stream",
     "text": [
      "Spatial frequency: 0.08\n",
      "Temporal frequency: 4.0\n",
      "Size: [20.0, 20.0]\n",
      "Contrast: 0.8\n"
     ]
    }
   ],
   "source": [
    "print('Spatial frequency: ' + str(rf_stim_table.spatial_frequency.unique()[0]))\n",
    "print('Temporal frequency: ' + str(rf_stim_table.temporal_frequency.unique()[0]))\n",
    "print('Size: ' + str(rf_stim_table['size'].unique()[0]))\n",
    "print('Contrast: ' + str(rf_stim_table['contrast'].unique()[0]))"
   ]
  },
  {
   "cell_type": "code",
   "execution_count": 13,
   "metadata": {},
   "outputs": [
    {
     "data": {
      "text/plain": [
       "Index(['color', 'contrast', 'frame', 'orientation', 'phase', 'size',\n",
       "       'spatial_frequency', 'start_time', 'stimulus_block', 'stimulus_name',\n",
       "       'stop_time', 'temporal_frequency', 'x_position', 'y_position',\n",
       "       'duration', 'stimulus_condition_id'],\n",
       "      dtype='object')"
      ]
     },
     "execution_count": 13,
     "metadata": {},
     "output_type": "execute_result"
    }
   ],
   "source": [
    "rf_stim_table.keys()"
   ]
  },
  {
   "cell_type": "markdown",
   "metadata": {},
   "source": [
    "#### Receptive Field Plotting"
   ]
  },
  {
   "cell_type": "code",
   "execution_count": 14,
   "metadata": {},
   "outputs": [],
   "source": [
    "rf_mapping = ReceptiveFieldMapping(session)"
   ]
  },
  {
   "cell_type": "code",
   "execution_count": 24,
   "metadata": {},
   "outputs": [],
   "source": [
    "#rf_mapping.stim_table"
   ]
  },
  {
   "cell_type": "code",
   "execution_count": 16,
   "metadata": {},
   "outputs": [],
   "source": [
    "#Visual Cortical Targeted\n",
    "am_units = session.units[session.units.ecephys_structure_acronym == 'VISam']"
   ]
  },
  {
   "cell_type": "code",
   "execution_count": 17,
   "metadata": {},
   "outputs": [],
   "source": [
    "RF = rf_mapping.get_receptive_field(am_units.index.values[3])"
   ]
  },
  {
   "cell_type": "code",
   "execution_count": 18,
   "metadata": {},
   "outputs": [
    {
     "data": {
      "image/png": "[encoded data removed]",
      "text/plain": [
       "<Figure size 720x432 with 37 Axes>"
      ]
     },
     "metadata": {
      "needs_background": "light"
     },
     "output_type": "display_data"
    }
   ],
   "source": [
    "def plot_rf(unit_id, index):\n",
    "    RF = rf_mapping.get_receptive_field(unit_id)\n",
    "    _ = plt.subplot(6,10,index+1)\n",
    "    _ = plt.imshow(RF)\n",
    "    _ = plt.axis('off')\n",
    "    \n",
    "_ = plt.figure(figsize=(10,6))\n",
    "_ = [plot_rf(RF, index) for index, RF in enumerate(am_units.index.values)]"
   ]
  }
 ],
 "metadata": {
  "colab": {
   "collapsed_sections": [
    "l8Hfwce1CBjR",
    "w9LRG1ExCBjR",
    "axz0XldiCBjV"
   ],
   "name": "NSCI Team 4.ipynb",
   "provenance": []
  },
  "kernelspec": {
   "display_name": "Python 3",
   "language": "python",
   "name": "python3"
  },
  "language_info": {
   "codemirror_mode": {
    "name": "ipython",
    "version": 3
   },
   "file_extension": ".py",
   "mimetype": "text/x-python",
   "name": "python",
   "nbconvert_exporter": "python",
   "pygments_lexer": "ipython3",
   "version": "3.7.4"
  }
 },
 "nbformat": 4,
 "nbformat_minor": 5
}
