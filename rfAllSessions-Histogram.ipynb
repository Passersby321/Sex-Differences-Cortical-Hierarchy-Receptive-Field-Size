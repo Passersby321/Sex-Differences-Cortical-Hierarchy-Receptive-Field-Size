{
 "cells": [
  {
   "cell_type": "markdown",
   "metadata": {
    "id": "gnu-bzMfD8wz"
   },
   "source": [
    "# Distribution of receptive field sizes across all units"
   ]
  },
  {
   "cell_type": "markdown",
   "metadata": {
    "id": "zHaQwflqD8w3"
   },
   "source": [
    "### Name: Renzhi Li\n",
    "\n",
    "\n",
    "### Date: 3/23/2022\n",
    "\n",
    "\n",
    "### PID: 730476567\n",
    "\n",
    "\n",
    "### Jupyter Notebook Number: 10"
   ]
  },
  {
   "cell_type": "markdown",
   "metadata": {
    "id": "oqc8EFpFD8w4"
   },
   "source": [
    "## Purpose/Objective:\n",
    "We want to examine sex differences in the visual receptive field between lower and higher areas with neuropixel data."
   ]
  },
  {
   "cell_type": "markdown",
   "metadata": {
    "id": "x1JJ7bKKD8w4"
   },
   "source": [
    "## In-lab: changed idea to lower(LGN) vs higher brain regions (AM)"
   ]
  },
  {
   "cell_type": "markdown",
   "metadata": {
    "id": "0NYNS_CBD8w5"
   },
   "source": [
    "## Protocol:\n",
    "1.Import all Allen Data for neuropixels\n",
    "\n",
    "2.Create variables and sort data based on our interests\n",
    "\n",
    "3.Allign data to stimulus presentation \n",
    "\n",
    "4.Receptive field mapping\n"
   ]
  },
  {
   "cell_type": "markdown",
   "metadata": {
    "id": "58wpjUS7D8w5"
   },
   "source": [
    "## Expected Results:\n",
    "1.Plot Distribution of receptive field sizes across all units of four groups"
   ]
  },
  {
   "cell_type": "markdown",
   "metadata": {
    "id": "VSuFrG9gD8w5"
   },
   "source": [
    "### Installing AllenSDK in local environment"
   ]
  },
  {
   "cell_type": "code",
   "execution_count": 1,
   "metadata": {
    "colab": {
     "base_uri": "https://localhost:8080/"
    },
    "id": "cfp-DeUgD8w6",
    "outputId": "55fce7c7-3651-4537-81ea-b23f28257ffd"
   },
   "outputs": [
    {
     "name": "stdout",
     "output_type": "stream",
     "text": [
      "Defaulting to user installation because normal site-packages is not writeable\n",
      "Requirement already satisfied: pip in /nas/longleaf/home/renzhi/.local/lib/python3.7/site-packages (22.0.4)\n",
      "Note: you may need to restart the kernel to use updated packages.\n"
     ]
    }
   ],
   "source": [
    "pip install --upgrade pip"
   ]
  },
  {
   "cell_type": "code",
   "execution_count": 2,
   "metadata": {
    "colab": {
     "base_uri": "https://localhost:8080/"
    },
    "id": "xuUiFlcwD8w8",
    "outputId": "1cda9ed7-fb93-4edf-8c2d-705e944fa2b3"
   },
   "outputs": [
    {
     "name": "stdout",
     "output_type": "stream",
     "text": [
      "Defaulting to user installation because normal site-packages is not writeable\n",
      "Requirement already satisfied: allensdk in /nas/longleaf/home/renzhi/.local/lib/python3.7/site-packages (2.13.2)\n",
      "Requirement already satisfied: seaborn<1.0.0 in /nas/longleaf/apps/anaconda/2019.10.ood/lib/python3.7/site-packages (from allensdk) (0.9.0)\n",
      "Requirement already satisfied: ndx-events<=0.2.0 in /nas/longleaf/home/renzhi/.local/lib/python3.7/site-packages (from allensdk) (0.2.0)\n",
      "Requirement already satisfied: simplejson<4.0.0,>=3.10.0 in /nas/longleaf/home/renzhi/.local/lib/python3.7/site-packages (from allensdk) (3.17.6)\n",
      "Requirement already satisfied: pandas>=1.1.5 in /nas/longleaf/home/renzhi/.local/lib/python3.7/site-packages (from allensdk) (1.3.5)\n",
      "Requirement already satisfied: requests<3.0.0 in /nas/longleaf/home/renzhi/.local/lib/python3.7/site-packages (from allensdk) (2.27.1)\n",
      "Requirement already satisfied: hdmf>=2.5.8 in /nas/longleaf/home/renzhi/.local/lib/python3.7/site-packages (from allensdk) (3.1.1)\n",
      "Requirement already satisfied: six<2.0.0,>=1.9.0 in /nas/longleaf/apps/anaconda/2019.10.ood/lib/python3.7/site-packages (from allensdk) (1.15.0)\n",
      "Requirement already satisfied: semver in /nas/longleaf/home/renzhi/.local/lib/python3.7/site-packages (from allensdk) (2.13.0)\n",
      "Requirement already satisfied: h5py in /nas/longleaf/home/renzhi/.local/lib/python3.7/site-packages (from allensdk) (3.6.0)\n",
      "Requirement already satisfied: pynrrd<1.0.0,>=0.2.1 in /nas/longleaf/home/renzhi/.local/lib/python3.7/site-packages (from allensdk) (0.4.2)\n",
      "Requirement already satisfied: requests-toolbelt<1.0.0 in /nas/longleaf/home/renzhi/.local/lib/python3.7/site-packages (from allensdk) (0.9.1)\n",
      "Requirement already satisfied: cachetools<5.0.0,>=4.2.1 in /nas/longleaf/home/renzhi/.local/lib/python3.7/site-packages (from allensdk) (4.2.4)\n",
      "Requirement already satisfied: scipy<2.0.0,>=1.4.0 in /nas/longleaf/apps/anaconda/2019.10.ood/lib/python3.7/site-packages (from allensdk) (1.7.1)\n",
      "Requirement already satisfied: glymur==0.8.19 in /nas/longleaf/home/renzhi/.local/lib/python3.7/site-packages (from allensdk) (0.8.19)\n",
      "Requirement already satisfied: simpleitk<3.0.0,>=2.0.2 in /nas/longleaf/home/renzhi/.local/lib/python3.7/site-packages (from allensdk) (2.1.1)\n",
      "Requirement already satisfied: xarray<0.16.0 in /nas/longleaf/home/renzhi/.local/lib/python3.7/site-packages (from allensdk) (0.15.1)\n",
      "Requirement already satisfied: aiohttp==3.7.4 in /nas/longleaf/home/renzhi/.local/lib/python3.7/site-packages (from allensdk) (3.7.4)\n",
      "Requirement already satisfied: nest-asyncio in /nas/longleaf/apps/anaconda/2019.10.ood/lib/python3.7/site-packages (from allensdk) (1.4.2)\n",
      "Requirement already satisfied: boto3==1.17.21 in /nas/longleaf/home/renzhi/.local/lib/python3.7/site-packages (from allensdk) (1.17.21)\n",
      "Requirement already satisfied: scikit-image<0.17.0,>=0.14.0 in /nas/longleaf/home/renzhi/.local/lib/python3.7/site-packages (from allensdk) (0.16.2)\n",
      "Requirement already satisfied: psycopg2-binary<3.0.0,>=2.7 in /nas/longleaf/home/renzhi/.local/lib/python3.7/site-packages (from allensdk) (2.9.3)\n",
      "Requirement already satisfied: tables<3.7.0,>=3.6.0 in /nas/longleaf/home/renzhi/.local/lib/python3.7/site-packages (from allensdk) (3.6.1)\n",
      "Requirement already satisfied: matplotlib<3.4.3,>=1.4.3 in /nas/longleaf/apps/anaconda/2019.10.ood/lib/python3.7/site-packages (from allensdk) (3.1.1)\n",
      "Requirement already satisfied: numpy in /nas/longleaf/apps/anaconda/2019.10.ood/lib/python3.7/site-packages (from allensdk) (1.21.2)\n",
      "Requirement already satisfied: scikit-build<1.0.0 in /nas/longleaf/home/renzhi/.local/lib/python3.7/site-packages (from allensdk) (0.12.0)\n",
      "Requirement already satisfied: pynwb in /nas/longleaf/home/renzhi/.local/lib/python3.7/site-packages (from allensdk) (2.0.0)\n",
      "Requirement already satisfied: tqdm>=4.27 in /nas/longleaf/home/renzhi/.local/lib/python3.7/site-packages (from allensdk) (4.62.3)\n",
      "Requirement already satisfied: statsmodels<=0.13.0 in /nas/longleaf/home/renzhi/.local/lib/python3.7/site-packages (from allensdk) (0.13.0)\n",
      "Requirement already satisfied: argschema<4.0.0,>=3.0.1 in /nas/longleaf/home/renzhi/.local/lib/python3.7/site-packages (from allensdk) (3.0.1)\n",
      "Requirement already satisfied: future<1.0.0,>=0.14.3 in /nas/longleaf/home/renzhi/.local/lib/python3.7/site-packages (from allensdk) (0.18.2)\n",
      "Requirement already satisfied: jinja2<2.12.0,>=2.7.3 in /nas/longleaf/apps/anaconda/2019.10.ood/lib/python3.7/site-packages (from allensdk) (2.11.2)\n",
      "Requirement already satisfied: typing-extensions>=3.6.5 in /nas/longleaf/apps/anaconda/2019.10.ood/lib/python3.7/site-packages (from aiohttp==3.7.4->allensdk) (3.7.4.3)\n",
      "Requirement already satisfied: chardet<4.0,>=2.0 in /nas/longleaf/home/renzhi/.local/lib/python3.7/site-packages (from aiohttp==3.7.4->allensdk) (3.0.4)\n",
      "Requirement already satisfied: async-timeout<4.0,>=3.0 in /nas/longleaf/home/renzhi/.local/lib/python3.7/site-packages (from aiohttp==3.7.4->allensdk) (3.0.1)\n",
      "Requirement already satisfied: multidict<7.0,>=4.5 in /nas/longleaf/home/renzhi/.local/lib/python3.7/site-packages (from aiohttp==3.7.4->allensdk) (6.0.2)\n",
      "Requirement already satisfied: yarl<2.0,>=1.0 in /nas/longleaf/home/renzhi/.local/lib/python3.7/site-packages (from aiohttp==3.7.4->allensdk) (1.7.2)\n",
      "Requirement already satisfied: attrs>=17.3.0 in /nas/longleaf/apps/anaconda/2019.10.ood/lib/python3.7/site-packages (from aiohttp==3.7.4->allensdk) (19.3.0)\n",
      "Requirement already satisfied: jmespath<1.0.0,>=0.7.1 in /nas/longleaf/home/renzhi/.local/lib/python3.7/site-packages (from boto3==1.17.21->allensdk) (0.10.0)\n",
      "Requirement already satisfied: s3transfer<0.4.0,>=0.3.0 in /nas/longleaf/home/renzhi/.local/lib/python3.7/site-packages (from boto3==1.17.21->allensdk) (0.3.7)\n",
      "Requirement already satisfied: botocore<1.21.0,>=1.20.21 in /nas/longleaf/home/renzhi/.local/lib/python3.7/site-packages (from boto3==1.17.21->allensdk) (1.20.112)\n",
      "Requirement already satisfied: setuptools in /nas/longleaf/apps/anaconda/2019.10.ood/lib/python3.7/site-packages (from glymur==0.8.19->allensdk) (49.6.0.post20200814)\n",
      "Requirement already satisfied: pyyaml in /nas/longleaf/home/renzhi/.local/lib/python3.7/site-packages (from argschema<4.0.0,>=3.0.1->allensdk) (6.0)\n",
      "Requirement already satisfied: marshmallow<4.0,>=3.0.0 in /nas/longleaf/home/renzhi/.local/lib/python3.7/site-packages (from argschema<4.0.0,>=3.0.1->allensdk) (3.14.1)\n",
      "Collecting ruamel.yaml<1,>=0.16\n",
      "  Using cached ruamel.yaml-0.17.21-py3-none-any.whl (109 kB)\n",
      "Requirement already satisfied: jsonschema<4,>=2.6.0 in /nas/longleaf/apps/anaconda/2019.10.ood/lib/python3.7/site-packages (from hdmf>=2.5.8->allensdk) (3.0.2)\n",
      "Requirement already satisfied: cached-property in /nas/longleaf/home/renzhi/.local/lib/python3.7/site-packages (from h5py->allensdk) (1.5.2)\n",
      "Requirement already satisfied: MarkupSafe>=0.23 in /nas/longleaf/apps/anaconda/2019.10.ood/lib/python3.7/site-packages (from jinja2<2.12.0,>=2.7.3->allensdk) (1.1.1)\n",
      "Requirement already satisfied: cycler>=0.10 in /nas/longleaf/apps/anaconda/2019.10.ood/lib/python3.7/site-packages (from matplotlib<3.4.3,>=1.4.3->allensdk) (0.10.0)\n",
      "Requirement already satisfied: kiwisolver>=1.0.1 in /nas/longleaf/apps/anaconda/2019.10.ood/lib/python3.7/site-packages (from matplotlib<3.4.3,>=1.4.3->allensdk) (1.1.0)\n",
      "Requirement already satisfied: pyparsing!=2.0.4,!=2.1.2,!=2.1.6,>=2.0.1 in /nas/longleaf/apps/anaconda/2019.10.ood/lib/python3.7/site-packages (from matplotlib<3.4.3,>=1.4.3->allensdk) (2.4.7)\n",
      "Requirement already satisfied: python-dateutil>=2.1 in /nas/longleaf/apps/anaconda/2019.10.ood/lib/python3.7/site-packages (from matplotlib<3.4.3,>=1.4.3->allensdk) (2.8.1)\n",
      "Requirement already satisfied: pytz>=2017.3 in /nas/longleaf/apps/anaconda/2019.10.ood/lib/python3.7/site-packages (from pandas>=1.1.5->allensdk) (2020.1)\n",
      "Requirement already satisfied: certifi>=2017.4.17 in /nas/longleaf/apps/anaconda/2019.10.ood/lib/python3.7/site-packages (from requests<3.0.0->allensdk) (2019.11.28)\n",
      "Requirement already satisfied: idna<4,>=2.5 in /nas/longleaf/home/renzhi/.local/lib/python3.7/site-packages (from requests<3.0.0->allensdk) (3.3)\n",
      "Requirement already satisfied: urllib3<1.27,>=1.21.1 in /nas/longleaf/home/renzhi/.local/lib/python3.7/site-packages (from requests<3.0.0->allensdk) (1.26.8)\n",
      "Requirement already satisfied: charset-normalizer~=2.0.0 in /nas/longleaf/home/renzhi/.local/lib/python3.7/site-packages (from requests<3.0.0->allensdk) (2.0.11)\n",
      "Requirement already satisfied: wheel>=0.29.0 in /nas/longleaf/apps/anaconda/2019.10.ood/lib/python3.7/site-packages (from scikit-build<1.0.0->allensdk) (0.34.2)\n",
      "Requirement already satisfied: distro in /nas/longleaf/home/renzhi/.local/lib/python3.7/site-packages (from scikit-build<1.0.0->allensdk) (1.6.0)\n",
      "Requirement already satisfied: packaging in /nas/longleaf/apps/anaconda/2019.10.ood/lib/python3.7/site-packages (from scikit-build<1.0.0->allensdk) (20.4)\n",
      "Requirement already satisfied: networkx>=2.0 in /nas/longleaf/home/renzhi/.local/lib/python3.7/site-packages (from scikit-image<0.17.0,>=0.14.0->allensdk) (2.6.3)\n",
      "Requirement already satisfied: PyWavelets>=0.4.0 in /nas/longleaf/home/renzhi/.local/lib/python3.7/site-packages (from scikit-image<0.17.0,>=0.14.0->allensdk) (1.2.0)\n",
      "Requirement already satisfied: imageio>=2.3.0 in /nas/longleaf/home/renzhi/.local/lib/python3.7/site-packages (from scikit-image<0.17.0,>=0.14.0->allensdk) (2.14.1)\n",
      "Requirement already satisfied: pillow>=4.3.0 in /nas/longleaf/home/renzhi/.local/lib/python3.7/site-packages (from scikit-image<0.17.0,>=0.14.0->allensdk) (9.0.0)\n",
      "Requirement already satisfied: patsy>=0.5.2 in /nas/longleaf/home/renzhi/.local/lib/python3.7/site-packages (from statsmodels<=0.13.0->allensdk) (0.5.2)\n",
      "Requirement already satisfied: numexpr>=2.6.2 in /nas/longleaf/home/renzhi/.local/lib/python3.7/site-packages (from tables<3.7.0,>=3.6.0->allensdk) (2.8.1)\n",
      "Requirement already satisfied: pyrsistent>=0.14.0 in /nas/longleaf/apps/anaconda/2019.10.ood/lib/python3.7/site-packages (from jsonschema<4,>=2.6.0->hdmf>=2.5.8->allensdk) (0.16.0)\n",
      "Requirement already satisfied: ruamel.yaml.clib>=0.2.6 in /nas/longleaf/home/renzhi/.local/lib/python3.7/site-packages (from ruamel.yaml<1,>=0.16->hdmf>=2.5.8->allensdk) (0.2.6)\n",
      "Installing collected packages: ruamel.yaml\n",
      "\u001b[31mERROR: pip's dependency resolver does not currently take into account all the packages that are installed. This behaviour is the source of the following dependency conflicts.\n",
      "deeplabcut 2.1.6.2 requires h5py~=2.7, but you have h5py 3.6.0 which is incompatible.\n",
      "deeplabcut 2.1.6.2 requires matplotlib==3.0.3, but you have matplotlib 3.1.1 which is incompatible.\n",
      "deeplabcut 2.1.6.2 requires numpy==1.16.4, but you have numpy 1.21.2 which is incompatible.\u001b[0m\u001b[31m\n",
      "\u001b[0mSuccessfully installed ruamel.yaml-0.17.21\n",
      "Note: you may need to restart the kernel to use updated packages.\n"
     ]
    }
   ],
   "source": [
    "pip install allensdk"
   ]
  },
  {
   "cell_type": "markdown",
   "metadata": {
    "id": "aUILiVdDD8w8"
   },
   "source": [
    "### Import Packages"
   ]
  },
  {
   "cell_type": "code",
   "execution_count": 3,
   "metadata": {
    "id": "452uYGvUD8w9"
   },
   "outputs": [],
   "source": [
    "import os\n",
    "import shutil\n",
    "import allensdk\n",
    "import pprint\n",
    "from pathlib import Path\n",
    "\n",
    "import numpy as np\n",
    "import xarray as xr\n",
    "import pandas as pd\n",
    "import scipy.stats as st\n",
    "import matplotlib.pyplot as plt\n",
    "%matplotlib inline\n",
    "from matplotlib.colors import ListedColormap\n",
    "import seaborn as sns\n",
    "sns.set_context('notebook', font_scale=1.5, rc={'lines.markeredgewidth': 2})\n",
    "\n",
    "# import EcephysSessions\n",
    "from allensdk.brain_observatory.ecephys.ecephys_session import EcephysSession\n",
    "from allensdk.brain_observatory.ecephys.ecephys_project_cache import EcephysProjectCache\n",
    "from allensdk.brain_observatory.ecephys.stimulus_analysis.receptive_field_mapping import ReceptiveFieldMapping\n",
    "from allensdk.brain_observatory.ecephys.ecephys_session import (\n",
    "    EcephysSession, \n",
    "    removed_unused_stimulus_presentation_columns\n",
    ")\n",
    "\n",
    "#Graphing for summary\n",
    "from scipy.ndimage.filters import gaussian_filter1d\n",
    "from sklearn.utils import resample \n",
    "\n",
    "import warnings\n",
    "warnings.filterwarnings(\"ignore\")"
   ]
  },
  {
   "cell_type": "code",
   "execution_count": 4,
   "metadata": {},
   "outputs": [],
   "source": [
    "#data directory for extracellular ephysdata: /overflow/NSCI274/projects/ecephysdata/\n",
    "\n",
    "data_directory = \"/overflow/NSCI274/projects/ecephysdata/\"\n",
    "code_directory = \"/nas/longleaf/home/renzhi/\"\n",
    "\n",
    "manifest_path = os.path.join(data_directory,\"manifest.json\")\n",
    "\n",
    "cache = EcephysProjectCache.from_warehouse(manifest=manifest_path)"
   ]
  },
  {
   "cell_type": "code",
   "execution_count": 5,
   "metadata": {},
   "outputs": [],
   "source": [
    "sessions = cache.get_session_table()\n",
    "\n",
    "#total_sessions = len(sessions)\n",
    "#sessions.head(n)"
   ]
  },
  {
   "cell_type": "markdown",
   "metadata": {
    "id": "v42ZNw4DCBjR"
   },
   "source": [
    "### Data Filter"
   ]
  },
  {
   "cell_type": "markdown",
   "metadata": {
    "id": "w9LRG1ExCBjR"
   },
   "source": [
    "#### Male with LGN"
   ]
  },
  {
   "cell_type": "code",
   "execution_count": 6,
   "metadata": {
    "colab": {
     "base_uri": "https://localhost:8080/",
     "height": 236
    },
    "id": "YnvkztupCBjR",
    "outputId": "650f79f4-b805-43eb-f78b-17f8ee830719"
   },
   "outputs": [
    {
     "name": "stdout",
     "output_type": "stream",
     "text": [
      "28\n"
     ]
    }
   ],
   "source": [
    "filtered_sessions_male_LGN = sessions[(sessions.sex == 'M') & \\\n",
    "                             (['LGd' in acronyms for acronyms in \n",
    "                               sessions.ecephys_structure_acronyms])]\n",
    "\n",
    "total_sessions_male_LGN = len(filtered_sessions_male_LGN)\n",
    "\n",
    "print(str(total_sessions_male_LGN))\n",
    "\n",
    "#show the graph\n",
    "#filtered_sessions_male_LGN.head()"
   ]
  },
  {
   "cell_type": "markdown",
   "metadata": {
    "id": "91THAJhbCBjS"
   },
   "source": [
    "#### Male with AM"
   ]
  },
  {
   "cell_type": "code",
   "execution_count": 7,
   "metadata": {
    "id": "6Ntf-yofCBjS"
   },
   "outputs": [
    {
     "name": "stdout",
     "output_type": "stream",
     "text": [
      "38\n"
     ]
    }
   ],
   "source": [
    "filtered_sessions_male_AM = sessions[(sessions.sex == 'M') & \\\n",
    "                             (['VISam' in acronyms for acronyms in \n",
    "                               sessions.ecephys_structure_acronyms])]\n",
    "total_sessions_male_AM = len(filtered_sessions_male_AM)\n",
    "\n",
    "print(str(total_sessions_male_AM))\n",
    "\n",
    "#show the graph\n",
    "#filtered_sessions_male_AM.head()"
   ]
  },
  {
   "cell_type": "markdown",
   "metadata": {
    "id": "Wd6NME-9CBjT"
   },
   "source": [
    "#### Female with LGN"
   ]
  },
  {
   "cell_type": "code",
   "execution_count": 8,
   "metadata": {
    "id": "sXv7mBGlCBjT"
   },
   "outputs": [
    {
     "name": "stdout",
     "output_type": "stream",
     "text": [
      "6\n"
     ]
    }
   ],
   "source": [
    "filtered_sessions_female_LGN = sessions[(sessions.sex == 'F') & \\\n",
    "                             #(sessions.full_genotype.str.find('Sst') > -1) & \\\n",
    "                             #(sessions.session_type == 'brain_observatory_1.1') & \\\n",
    "                             (['LGd' in acronyms for acronyms in \n",
    "                               sessions.ecephys_structure_acronyms])]\n",
    "total_sessions_female_LGN = len(filtered_sessions_female_LGN)\n",
    "\n",
    "print(str(total_sessions_female_LGN))\n",
    "\n",
    "#show the graph\n",
    "#filtered_sessions_female_LGN.head(n = 6)"
   ]
  },
  {
   "cell_type": "markdown",
   "metadata": {
    "id": "Zw8_M3vhCBjT"
   },
   "source": [
    "#### Female with AM"
   ]
  },
  {
   "cell_type": "code",
   "execution_count": 9,
   "metadata": {
    "id": "_mQATz0WCBjT"
   },
   "outputs": [
    {
     "name": "stdout",
     "output_type": "stream",
     "text": [
      "12\n"
     ]
    }
   ],
   "source": [
    "filtered_sessions_female_AM = sessions[(sessions.sex == 'F') & \\\n",
    "                             (['VISam' in acronyms for acronyms in \n",
    "                               sessions.ecephys_structure_acronyms])]\n",
    "total_sessions_female_AM = len(filtered_sessions_female_AM)\n",
    "\n",
    "print(str(total_sessions_female_AM))\n",
    "\n",
    "#show the graph\n",
    "#filtered_sessions_female_AM.head()"
   ]
  },
  {
   "cell_type": "markdown",
   "metadata": {},
   "source": [
    "### Distribution of the Receptive Field for All Sessions & Area"
   ]
  },
  {
   "cell_type": "code",
   "execution_count": 10,
   "metadata": {},
   "outputs": [
    {
     "name": "stdout",
     "output_type": "stream",
     "text": [
      "[746083955, 751348571, 819186360, 819701982, 821695405, 839068429]\n",
      "[751348571, 760693773, 773418906, 786091066, 794812542, 798911424, 816200189, 819186360, 819701982, 821695405, 839068429, 847657808]\n",
      "[715093703, 719161530, 721123822, 743475441, 744228101, 750332458, 750749662, 754312389, 754829445, 755434585, 756029989, 757216464, 757970808, 759883607, 760345702, 761418226, 763673393, 766640955, 768515987, 771160300, 771990200, 778240327, 779839471, 781842082, 791319847, 799864342, 835479236, 839557629]\n",
      "[715093703, 719161530, 721123822, 743475441, 744228101, 750332458, 750749662, 754312389, 754829445, 755434585, 756029989, 757216464, 757970808, 759883607, 760345702, 761418226, 763673393, 766640955, 768515987, 771160300, 771990200, 778240327, 779839471, 781842082, 791319847, 799864342, 835479236, 839557629]\n"
     ]
    }
   ],
   "source": [
    "female_LGN_session_ids = []\n",
    "for session_id, row in filtered_sessions_female_LGN.iterrows():\n",
    "    female_LGN_session_ids.append(session_id)\n",
    "print(female_LGN_session_ids)\n",
    "\n",
    "female_AM_session_ids = []\n",
    "for session_id, row in filtered_sessions_female_AM.iterrows():\n",
    "    female_AM_session_ids.append(session_id)\n",
    "print(female_AM_session_ids)\n",
    "\n",
    "male_LGN_session_ids = []\n",
    "for session_id, row in filtered_sessions_male_LGN.iterrows():\n",
    "    male_LGN_session_ids.append(session_id)\n",
    "print(male_LGN_session_ids)\n",
    "\n",
    "male_AM_session_ids = []\n",
    "for session_id, row in filtered_sessions_male_LGN.iterrows():\n",
    "    male_AM_session_ids.append(session_id)\n",
    "print(male_AM_session_ids)\n",
    "\n",
    "LGN_session_groups = [female_LGN_session_ids,male_LGN_session_ids]\n",
    "AM_session_groups = [female_AM_session_ids,male_AM_session_ids]"
   ]
  },
  {
   "cell_type": "markdown",
   "metadata": {},
   "source": [
    "### Color Pallete"
   ]
  },
  {
   "cell_type": "code",
   "execution_count": 11,
   "metadata": {},
   "outputs": [],
   "source": [
    "pallete = ['#0000FF','#FF0000']"
   ]
  },
  {
   "cell_type": "markdown",
   "metadata": {},
   "source": [
    "### LGN Graphing"
   ]
  },
  {
   "cell_type": "code",
   "execution_count": 28,
   "metadata": {},
   "outputs": [],
   "source": [
    "df = pd.read_csv(os.path.join(code_directory, 'data', 'unit_table.csv'), low_memory=False)"
   ]
  },
  {
   "cell_type": "code",
   "execution_count": 29,
   "metadata": {},
   "outputs": [
    {
     "data": {
      "text/plain": [
       "<Figure size 576x432 with 0 Axes>"
      ]
     },
     "metadata": {},
     "output_type": "display_data"
    }
   ],
   "source": [
    "import matplotlib\n",
    "matplotlib.rcParams['pdf.fonttype'] = 42\n",
    "matplotlib.rcParams['ps.fonttype'] = 42\n",
    "\n",
    "plt.figure(14781)\n",
    "plt.clf()\n",
    "\n",
    "areas = ('LGd','LGd')\n",
    "\n",
    "num_units = 0\n",
    "unit_count = np.zeros((4,))\n",
    "mouse_count = np.zeros((4,))\n",
    "\n",
    "def get_bootstrap_95ci(M, measure_of_central_tendency, N=1000):\n",
    "    n = int(len(M)/2)\n",
    "    est = np.zeros((N,))\n",
    "    for i in range(N):\n",
    "        boot = M[np.random.permutation(len(M))[:n]]\n",
    "        est[i] = measure_of_central_tendency(boot)\n",
    "        \n",
    "    return np.percentile(est,97.5) - np.nanmean(est)\n",
    "\n",
    "def convert_to_ms(value_in_s):\n",
    "    return value_in_s*1000\n",
    "\n",
    "def take_log(original_value):\n",
    "    return np.log10(original_value)\n",
    "\n",
    "def do_not_change(original_value):\n",
    "    return original_value\n",
    "\n",
    "measure_of_central_tendency = np.nanmean\n",
    "\n",
    "np.random.seed(10)\n",
    "\n",
    "num_per_area = np.zeros((4,))\n",
    "num_with_rfs = np.zeros((4,))\n",
    "num_after_filter = np.zeros((4,))\n",
    "num_after_fl = np.zeros((4,))\n",
    "num_after_ac = np.zeros((4,))\n",
    "mice_per_area = np.zeros((4,))\n",
    "\n",
    "if True:\n",
    "    metrics = ['area_rf']\n",
    "    labels = ['RF area ($deg^2$)']\n",
    "    bins = [np.linspace(10,2000,30)]\n",
    "    function_to_apply = [do_not_change]\n",
    "    y_vals = [520]\n",
    "\n",
    "else:\n",
    "    metrics = [ 'firing_rate']\n",
    "    labels = ['$log_{10}$ Firing rate']\n",
    "    bins = [np.linspace(-1,2)]\n",
    "    function_to_apply = [take_log]\n",
    "    y_vals = [0.75]\n",
    "\n",
    "centers = np.zeros((8,len(metrics)))\n",
    "errorbars = np.zeros((8,len(metrics)))\n",
    "\n",
    "max_values = np.zeros((len(metrics),))\n",
    "\n",
    "all_values = {0: {}, 1: {}, 2: {}, 3: {}, 4: {}, 5: {}}\n",
    "\n",
    "legend = ['female LGN','male LGN']"
   ]
  },
  {
   "cell_type": "code",
   "execution_count": 30,
   "metadata": {},
   "outputs": [],
   "source": [
    "all_df = []\n",
    "M_arr = []\n",
    "h_arr = []\n",
    "h_filt_arr = []\n",
    "b_arr = []\n",
    "\n",
    "for idx, area in enumerate(areas):\n",
    "    selection = (df.ecephys_session_id.isin(LGN_session_groups[idx]))\n",
    "    selection &= (df.ecephys_structure_acronym == area)\n",
    "    \n",
    "    num_per_area[idx] = np.sum(selection)\n",
    "    \n",
    "    selection &= (df.p_value_rf < 0.01) #& \\\n",
    "    \n",
    "    num_with_rfs[idx] = np.sum(selection)\n",
    "    \n",
    "    selection &= (df.area_rf < 2500)\n",
    "    selection &= (df.snr > 1)\n",
    "    selection &= (df.firing_rate_dg > 0.1)\n",
    "    num_after_filter[idx] = np.sum(selection)\n",
    "    #print(np.sum(selection))\n",
    "    #all_df.append(df[selection])\n",
    "             \n",
    "    mice_per_area[idx] = len(df[selection].specimen_id.unique())\n",
    "    #print(mice_per_area)\n",
    "    \n",
    "    for metric_idx, metric in enumerate(metrics):       \n",
    "        if metric_idx == 0:\n",
    "            selection &= (df.time_to_first_spike_fl < 0.1) \n",
    "            num_after_fl[idx] = np.sum(selection)\n",
    "        elif metric_idx == 3:\n",
    "            selection &= (df[metric] < 300)\n",
    "            selection &= (df[metric] > 1)\n",
    "            selection &= (df.spike_count_ac > 50)\n",
    "            selection &= (df.err_ac < 20)\n",
    "            num_after_ac[idx] = np.sum(selection)\n",
    "    \n",
    "        M = function_to_apply[metric_idx](df[selection][metric].values)\n",
    "        M_arr.append(M)\n",
    "        h, b = np.histogram(M, bins=bins[metric_idx], density=True)\n",
    "        h_arr.append(h)\n",
    "        \n",
    "        h_filt = gaussian_filter1d(h,1.5)\n",
    "        h_filt_arr.append(h_filt)\n",
    "        b_arr.append(b[:-1])"
   ]
  },
  {
   "cell_type": "code",
   "execution_count": 31,
   "metadata": {},
   "outputs": [
    {
     "data": {
      "image/png": "[encoded data removed]",
      "text/plain": [
       "<Figure size 576x432 with 1 Axes>"
      ]
     },
     "metadata": {
      "needs_background": "light"
     },
     "output_type": "display_data"
    }
   ],
   "source": [
    "plt.rcParams['figure.figsize'] = [8, 6]\n",
    "#plt.plot(b[:-1],h_filt,color=pallete[idx])\n",
    "plt.hist(b_arr, weights= h_filt_arr, label = legend, color=pallete)\n",
    "plt.ylim([0, 0.005])\n",
    "plt.xlabel(labels[0], fontsize=20)\n",
    "plt.ylabel('Normalized Probability', fontsize=20)\n",
    "#plt.title()\n",
    "plt.legend(legend,loc='upper right',prop={'size': 16})\n",
    "plt.tight_layout()"
   ]
  },
  {
   "cell_type": "markdown",
   "metadata": {},
   "source": [
    "### AM Graphing"
   ]
  },
  {
   "cell_type": "code",
   "execution_count": 32,
   "metadata": {},
   "outputs": [],
   "source": [
    "df = pd.read_csv(os.path.join(code_directory, 'data', 'unit_table.csv'), low_memory=False)"
   ]
  },
  {
   "cell_type": "code",
   "execution_count": 33,
   "metadata": {},
   "outputs": [
    {
     "data": {
      "text/plain": [
       "<Figure size 576x432 with 0 Axes>"
      ]
     },
     "metadata": {},
     "output_type": "display_data"
    }
   ],
   "source": [
    "import matplotlib\n",
    "matplotlib.rcParams['pdf.fonttype'] = 42\n",
    "matplotlib.rcParams['ps.fonttype'] = 42\n",
    "\n",
    "plt.figure(14781)\n",
    "plt.clf()\n",
    "\n",
    "areas = ('VISam','VISam')\n",
    "\n",
    "num_units = 0\n",
    "unit_count = np.zeros((4,))\n",
    "mouse_count = np.zeros((4,))\n",
    "\n",
    "def get_bootstrap_95ci(M, measure_of_central_tendency, N=1000):\n",
    "    n = int(len(M)/2)\n",
    "    est = np.zeros((N,))\n",
    "    for i in range(N):\n",
    "        boot = M[np.random.permutation(len(M))[:n]]\n",
    "        est[i] = measure_of_central_tendency(boot)\n",
    "        \n",
    "    return np.percentile(est,97.5) - np.nanmean(est)\n",
    "\n",
    "def convert_to_ms(value_in_s):\n",
    "    return value_in_s*1000\n",
    "\n",
    "def take_log(original_value):\n",
    "    return np.log10(original_value)\n",
    "\n",
    "def do_not_change(original_value):\n",
    "    return original_value\n",
    "\n",
    "measure_of_central_tendency = np.nanmean\n",
    "\n",
    "np.random.seed(10)\n",
    "\n",
    "num_per_area = np.zeros((4,))\n",
    "num_with_rfs = np.zeros((4,))\n",
    "num_after_filter = np.zeros((4,))\n",
    "num_after_fl = np.zeros((4,))\n",
    "num_after_ac = np.zeros((4,))\n",
    "mice_per_area = np.zeros((4,))\n",
    "\n",
    "if True:\n",
    "    metrics = ['area_rf']\n",
    "    labels = ['RF area ($deg^2$)']\n",
    "    bins = [np.linspace(10,2000,30)]\n",
    "    function_to_apply = [ do_not_change]\n",
    "    y_vals = [520]\n",
    "\n",
    "else:\n",
    "    metrics = [ 'firing_rate']\n",
    "    labels = ['$log_{10}$ Firing rate']\n",
    "    bins = [np.linspace(-1,2)]\n",
    "    function_to_apply = [take_log]\n",
    "    y_vals = [0.75]\n",
    "\n",
    "centers = np.zeros((8,len(metrics)))\n",
    "errorbars = np.zeros((8,len(metrics)))\n",
    "\n",
    "max_values = np.zeros((len(metrics),))\n",
    "\n",
    "all_values = {0: {}, 1: {}, 2: {}, 3: {}, 4: {}, 5: {}}\n",
    "\n",
    "legend = ['female AM','male AM']"
   ]
  },
  {
   "cell_type": "code",
   "execution_count": 34,
   "metadata": {},
   "outputs": [],
   "source": [
    "all_df = []\n",
    "M_arr = []\n",
    "h_arr = []\n",
    "h_filt_arr = []\n",
    "b_arr = []\n",
    "\n",
    "for idx, area in enumerate(areas):\n",
    "    selection = (df.ecephys_session_id.isin(AM_session_groups[idx]))\n",
    "    selection &= (df.ecephys_structure_acronym == area)\n",
    "    \n",
    "    num_per_area[idx] = np.sum(selection)\n",
    "    \n",
    "    selection &= (df.p_value_rf < 0.01) #& \\\n",
    "    \n",
    "    num_with_rfs[idx] = np.sum(selection)\n",
    "    \n",
    "    selection &= (df.area_rf < 2500)\n",
    "    selection &= (df.snr > 1)\n",
    "    selection &= (df.firing_rate_dg > 0.1)\n",
    "    num_after_filter[idx] = np.sum(selection)\n",
    "    #print(np.sum(selection))\n",
    "    #all_df.append(df[selection])\n",
    "             \n",
    "    mice_per_area[idx] = len(df[selection].specimen_id.unique())\n",
    "    #print(mice_per_area)\n",
    "    \n",
    "    for metric_idx, metric in enumerate(metrics):       \n",
    "        if metric_idx == 0:\n",
    "            selection &= (df.time_to_first_spike_fl < 0.1) \n",
    "            num_after_fl[idx] = np.sum(selection)\n",
    "        elif metric_idx == 3:\n",
    "            selection &= (df[metric] < 300)\n",
    "            selection &= (df[metric] > 1)\n",
    "            selection &= (df.spike_count_ac > 50)\n",
    "            selection &= (df.err_ac < 20)\n",
    "            num_after_ac[idx] = np.sum(selection)\n",
    "    \n",
    "        M = function_to_apply[metric_idx](df[selection][metric].values)\n",
    "        M_arr.append(M)\n",
    "        h, b = np.histogram(M, bins=bins[metric_idx], density=True)\n",
    "        h_arr.append(h)\n",
    "        \n",
    "        h_filt = gaussian_filter1d(h,1.5)\n",
    "        h_filt_arr.append(h_filt)\n",
    "        b_arr.append(b[:-1])"
   ]
  },
  {
   "cell_type": "code",
   "execution_count": 35,
   "metadata": {},
   "outputs": [
    {
     "data": {
      "image/png": "[encoded data removed]",
      "text/plain": [
       "<Figure size 576x432 with 1 Axes>"
      ]
     },
     "metadata": {
      "needs_background": "light"
     },
     "output_type": "display_data"
    }
   ],
   "source": [
    "plt.rcParams['figure.figsize'] = [8, 6]\n",
    "#plt.plot(b[:-1],h_filt,color=pallete[idx])\n",
    "plt.hist(b_arr, weights= h_filt_arr, label = legend, color=pallete)\n",
    "plt.ylim([0, 0.0050])\n",
    "plt.xlabel(labels[0], fontsize=20)\n",
    "plt.ylabel('Normalized Probability', fontsize=20)\n",
    "#plt.title()\n",
    "plt.legend(legend,loc='upper right',prop={'size': 16})\n",
    "plt.tight_layout()\n",
    "plt.savefig('output.png', dpi=300)"
   ]
  },
  {
   "cell_type": "code",
   "execution_count": null,
   "metadata": {},
   "outputs": [],
   "source": []
  },
  {
   "cell_type": "code",
   "execution_count": null,
   "metadata": {},
   "outputs": [],
   "source": []
  }
 ],
 "metadata": {
  "colab": {
   "collapsed_sections": [],
   "name": "Pre-Lab_ELN.ipynb",
   "provenance": []
  },
  "kernelspec": {
   "display_name": "Python 3",
   "language": "python",
   "name": "python3"
  },
  "language_info": {
   "codemirror_mode": {
    "name": "ipython",
    "version": 3
   },
   "file_extension": ".py",
   "mimetype": "text/x-python",
   "name": "python",
   "nbconvert_exporter": "python",
   "pygments_lexer": "ipython3",
   "version": "3.7.4"
  },
  "widgets": {
   "application/vnd.jupyter.widget-state+json": {
    "3f51668608cd49c991cb8c88a9080f55": {
     "model_module": "@jupyter-widgets/controls",
     "model_module_version": "1.5.0",
     "model_name": "ProgressStyleModel",
     "state": {
      "_model_module": "@jupyter-widgets/controls",
      "_model_module_version": "1.5.0",
      "_model_name": "ProgressStyleModel",
      "_view_count": null,
      "_view_module": "@jupyter-widgets/base",
      "_view_module_version": "1.2.0",
      "_view_name": "StyleView",
      "bar_color": null,
      "description_width": ""
     }
    },
    "5f2fbee334b24d88a94153ce16fe6d5c": {
     "model_module": "@jupyter-widgets/base",
     "model_module_version": "1.2.0",
     "model_name": "LayoutModel",
     "state": {
      "_model_module": "@jupyter-widgets/base",
      "_model_module_version": "1.2.0",
      "_model_name": "LayoutModel",
      "_view_count": null,
      "_view_module": "@jupyter-widgets/base",
      "_view_module_version": "1.2.0",
      "_view_name": "LayoutView",
      "align_content": null,
      "align_items": null,
      "align_self": null,
      "border": null,
      "bottom": null,
      "display": null,
      "flex": null,
      "flex_flow": null,
      "grid_area": null,
      "grid_auto_columns": null,
      "grid_auto_flow": null,
      "grid_auto_rows": null,
      "grid_column": null,
      "grid_gap": null,
      "grid_row": null,
      "grid_template_areas": null,
      "grid_template_columns": null,
      "grid_template_rows": null,
      "height": null,
      "justify_content": null,
      "justify_items": null,
      "left": null,
      "margin": null,
      "max_height": null,
      "max_width": null,
      "min_height": null,
      "min_width": null,
      "object_fit": null,
      "object_position": null,
      "order": null,
      "overflow": null,
      "overflow_x": null,
      "overflow_y": null,
      "padding": null,
      "right": null,
      "top": null,
      "visibility": null,
      "width": null
     }
    },
    "5fe85b27e94840949d74ddeadf3a6eba": {
     "model_module": "@jupyter-widgets/controls",
     "model_module_version": "1.5.0",
     "model_name": "DescriptionStyleModel",
     "state": {
      "_model_module": "@jupyter-widgets/controls",
      "_model_module_version": "1.5.0",
      "_model_name": "DescriptionStyleModel",
      "_view_count": null,
      "_view_module": "@jupyter-widgets/base",
      "_view_module_version": "1.2.0",
      "_view_name": "StyleView",
      "description_width": ""
     }
    },
    "725fc169729943f0a5e65e057583a38d": {
     "model_module": "@jupyter-widgets/controls",
     "model_module_version": "1.5.0",
     "model_name": "HBoxModel",
     "state": {
      "_dom_classes": [],
      "_model_module": "@jupyter-widgets/controls",
      "_model_module_version": "1.5.0",
      "_model_name": "HBoxModel",
      "_view_count": null,
      "_view_module": "@jupyter-widgets/controls",
      "_view_module_version": "1.5.0",
      "_view_name": "HBoxView",
      "box_style": "",
      "children": [
       "IPY_MODEL_c4bd4dfcbc314c9b943679073888b2d5",
       "IPY_MODEL_e169a030994a4bf687255e1b12dc69be",
       "IPY_MODEL_abf0eacaa0c84ac482e43fe140198b06"
      ],
      "layout": "IPY_MODEL_5f2fbee334b24d88a94153ce16fe6d5c"
     }
    },
    "8b907f45c146404881af85bf9c464adb": {
     "model_module": "@jupyter-widgets/base",
     "model_module_version": "1.2.0",
     "model_name": "LayoutModel",
     "state": {
      "_model_module": "@jupyter-widgets/base",
      "_model_module_version": "1.2.0",
      "_model_name": "LayoutModel",
      "_view_count": null,
      "_view_module": "@jupyter-widgets/base",
      "_view_module_version": "1.2.0",
      "_view_name": "LayoutView",
      "align_content": null,
      "align_items": null,
      "align_self": null,
      "border": null,
      "bottom": null,
      "display": null,
      "flex": null,
      "flex_flow": null,
      "grid_area": null,
      "grid_auto_columns": null,
      "grid_auto_flow": null,
      "grid_auto_rows": null,
      "grid_column": null,
      "grid_gap": null,
      "grid_row": null,
      "grid_template_areas": null,
      "grid_template_columns": null,
      "grid_template_rows": null,
      "height": null,
      "justify_content": null,
      "justify_items": null,
      "left": null,
      "margin": null,
      "max_height": null,
      "max_width": null,
      "min_height": null,
      "min_width": null,
      "object_fit": null,
      "object_position": null,
      "order": null,
      "overflow": null,
      "overflow_x": null,
      "overflow_y": null,
      "padding": null,
      "right": null,
      "top": null,
      "visibility": null,
      "width": null
     }
    },
    "ab4c7368b49f4f108e9ece567d99715f": {
     "model_module": "@jupyter-widgets/base",
     "model_module_version": "1.2.0",
     "model_name": "LayoutModel",
     "state": {
      "_model_module": "@jupyter-widgets/base",
      "_model_module_version": "1.2.0",
      "_model_name": "LayoutModel",
      "_view_count": null,
      "_view_module": "@jupyter-widgets/base",
      "_view_module_version": "1.2.0",
      "_view_name": "LayoutView",
      "align_content": null,
      "align_items": null,
      "align_self": null,
      "border": null,
      "bottom": null,
      "display": null,
      "flex": null,
      "flex_flow": null,
      "grid_area": null,
      "grid_auto_columns": null,
      "grid_auto_flow": null,
      "grid_auto_rows": null,
      "grid_column": null,
      "grid_gap": null,
      "grid_row": null,
      "grid_template_areas": null,
      "grid_template_columns": null,
      "grid_template_rows": null,
      "height": null,
      "justify_content": null,
      "justify_items": null,
      "left": null,
      "margin": null,
      "max_height": null,
      "max_width": null,
      "min_height": null,
      "min_width": null,
      "object_fit": null,
      "object_position": null,
      "order": null,
      "overflow": null,
      "overflow_x": null,
      "overflow_y": null,
      "padding": null,
      "right": null,
      "top": null,
      "visibility": null,
      "width": null
     }
    },
    "abf0eacaa0c84ac482e43fe140198b06": {
     "model_module": "@jupyter-widgets/controls",
     "model_module_version": "1.5.0",
     "model_name": "HTMLModel",
     "state": {
      "_dom_classes": [],
      "_model_module": "@jupyter-widgets/controls",
      "_model_module_version": "1.5.0",
      "_model_name": "HTMLModel",
      "_view_count": null,
      "_view_module": "@jupyter-widgets/controls",
      "_view_module_version": "1.5.0",
      "_view_name": "HTMLView",
      "description": "",
      "description_tooltip": null,
      "layout": "IPY_MODEL_ab4c7368b49f4f108e9ece567d99715f",
      "placeholder": "​",
      "style": "IPY_MODEL_bef2264859904e05ad229ef84c4c4f99",
      "value": " 3.07G/3.07G [07:14&lt;00:00, 7.23MB/s]"
     }
    },
    "bef2264859904e05ad229ef84c4c4f99": {
     "model_module": "@jupyter-widgets/controls",
     "model_module_version": "1.5.0",
     "model_name": "DescriptionStyleModel",
     "state": {
      "_model_module": "@jupyter-widgets/controls",
      "_model_module_version": "1.5.0",
      "_model_name": "DescriptionStyleModel",
      "_view_count": null,
      "_view_module": "@jupyter-widgets/base",
      "_view_module_version": "1.2.0",
      "_view_name": "StyleView",
      "description_width": ""
     }
    },
    "c4bd4dfcbc314c9b943679073888b2d5": {
     "model_module": "@jupyter-widgets/controls",
     "model_module_version": "1.5.0",
     "model_name": "HTMLModel",
     "state": {
      "_dom_classes": [],
      "_model_module": "@jupyter-widgets/controls",
      "_model_module_version": "1.5.0",
      "_model_name": "HTMLModel",
      "_view_count": null,
      "_view_module": "@jupyter-widgets/controls",
      "_view_module_version": "1.5.0",
      "_view_name": "HTMLView",
      "description": "",
      "description_tooltip": null,
      "layout": "IPY_MODEL_8b907f45c146404881af85bf9c464adb",
      "placeholder": "​",
      "style": "IPY_MODEL_5fe85b27e94840949d74ddeadf3a6eba",
      "value": "Downloading: 100%"
     }
    },
    "e169a030994a4bf687255e1b12dc69be": {
     "model_module": "@jupyter-widgets/controls",
     "model_module_version": "1.5.0",
     "model_name": "FloatProgressModel",
     "state": {
      "_dom_classes": [],
      "_model_module": "@jupyter-widgets/controls",
      "_model_module_version": "1.5.0",
      "_model_name": "FloatProgressModel",
      "_view_count": null,
      "_view_module": "@jupyter-widgets/controls",
      "_view_module_version": "1.5.0",
      "_view_name": "ProgressView",
      "bar_style": "success",
      "description": "",
      "description_tooltip": null,
      "layout": "IPY_MODEL_e3022d1cfc5a4e17b8b3d10dbff6617b",
      "max": 3073327756,
      "min": 0,
      "orientation": "horizontal",
      "style": "IPY_MODEL_3f51668608cd49c991cb8c88a9080f55",
      "value": 3073327756
     }
    },
    "e3022d1cfc5a4e17b8b3d10dbff6617b": {
     "model_module": "@jupyter-widgets/base",
     "model_module_version": "1.2.0",
     "model_name": "LayoutModel",
     "state": {
      "_model_module": "@jupyter-widgets/base",
      "_model_module_version": "1.2.0",
      "_model_name": "LayoutModel",
      "_view_count": null,
      "_view_module": "@jupyter-widgets/base",
      "_view_module_version": "1.2.0",
      "_view_name": "LayoutView",
      "align_content": null,
      "align_items": null,
      "align_self": null,
      "border": null,
      "bottom": null,
      "display": null,
      "flex": null,
      "flex_flow": null,
      "grid_area": null,
      "grid_auto_columns": null,
      "grid_auto_flow": null,
      "grid_auto_rows": null,
      "grid_column": null,
      "grid_gap": null,
      "grid_row": null,
      "grid_template_areas": null,
      "grid_template_columns": null,
      "grid_template_rows": null,
      "height": null,
      "justify_content": null,
      "justify_items": null,
      "left": null,
      "margin": null,
      "max_height": null,
      "max_width": null,
      "min_height": null,
      "min_width": null,
      "object_fit": null,
      "object_position": null,
      "order": null,
      "overflow": null,
      "overflow_x": null,
      "overflow_y": null,
      "padding": null,
      "right": null,
      "top": null,
      "visibility": null,
      "width": null
     }
    }
   }
  }
 },
 "nbformat": 4,
 "nbformat_minor": 5
}
